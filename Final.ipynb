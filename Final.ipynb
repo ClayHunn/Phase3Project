{
 "cells": [
  {
   "cell_type": "markdown",
   "metadata": {},
   "source": [
    "# Objective: Predicting Incapacitiating/Fatal Injury in Car Crashes\n",
    "The main objective of this notebook is to show proof of concept in predicting significant injuries in car crashes with machine learning models for a automatic emergency response notification device to utilize in vehicles. "
   ]
  },
  {
   "cell_type": "code",
   "execution_count": 1,
   "metadata": {},
   "outputs": [],
   "source": [
    "# Importing relevant libraries and dataframes\n",
    "import numpy as np\n",
    "import pandas as pd\n",
    "import matplotlib.pyplot as plt\n",
    "import seaborn as sns\n",
    "%matplotlib inline\n",
    "\n",
    "from sklearn.model_selection import train_test_split, GridSearchCV\n",
    "from sklearn.tree import DecisionTreeClassifier\n",
    "from sklearn.impute import SimpleImputer\n",
    "from sklearn.preprocessing import OneHotEncoder\n",
    "\n",
    "from sklearn.compose import ColumnTransformer\n",
    "from sklearn.pipeline import Pipeline\n",
    "\n",
    "from sklearn.metrics import plot_confusion_matrix, recall_score, precision_score, accuracy_score, f1_score, roc_curve, auc\n",
    "\n",
    "from sklearn.ensemble import RandomForestClassifier, AdaBoostClassifier, GradientBoostingClassifier\n",
    "\n",
    "from sklearn.dummy import DummyClassifier\n",
    "\n",
    "from xgboost import XGBClassifier\n",
    "\n",
    "from sklearn.utils.class_weight import compute_sample_weight\n",
    "\n",
    "from sklearn.naive_bayes import GaussianNB, MultinomialNB, CategoricalNB\n",
    "\n",
    "from sklearn.linear_model import LogisticRegression\n",
    "\n",
    "\n",
    "df_crashes = pd.read_csv('data/Traffic_Crashes_-_Crashes.csv', index_col='CRASH_RECORD_ID', low_memory=False)\n",
    "df_people = pd.read_csv('data/Traffic_Crashes_-_People.csv', index_col='CRASH_RECORD_ID', low_memory=False)\n",
    "df_vehicles = pd.read_csv('data/Traffic_Crashes_-_Vehicles.csv', index_col='CRASH_RECORD_ID', low_memory=False)"
   ]
  },
  {
   "cell_type": "markdown",
   "metadata": {},
   "source": [
    "## Data Understanding and Limitations\n",
    "The data used for this project is from the City of Chicago electronic crash reporting system (E-Crash) it includes 3 dataframes involving the crash, people, and vehicles data which are merged on the unique crash record id. \n",
    "\n",
    "General overview:\n",
    " - Over 650k unique crashes this goes down to 580k for our modeling process after data cleaning/feature engineering\n",
    " - Time range is from 2017 to September 2022\n",
    " - Data is only in Chicago city limits and excludes all highway and freeway crashes\n",
    " - Over half of reports are desk reports aka after the crash happened and not on scene\n",
    " - Administrative error makes the data have a lot of estimates, unknowns, & NaNs\n",
    "\n",
    "Here is a link to the source dataframes https://data.cityofchicago.org/Transportation/Traffic-Crashes-Crashes/85ca-t3if\n",
    "\n"
   ]
  },
  {
   "cell_type": "code",
   "execution_count": 2,
   "metadata": {},
   "outputs": [],
   "source": [
    "#This is storing the report type column for visualizations later as we drop it below for the modeling process\n",
    "df_crashes2 = df_crashes.fillna('REPORT_TYPE')  \n",
    "df_crashes2['REPORT_TYPE'] = df_crashes['REPORT_TYPE'].apply(lambda x: 'DESK REPORT' if x == 'NOT ON SCENE (DESK REPORT)' else 'ON SCENE')"
   ]
  },
  {
   "cell_type": "code",
   "execution_count": 3,
   "metadata": {},
   "outputs": [],
   "source": [
    "#Here we are dropping columns either not relevant, too difficult to work with, or repetitive. \n",
    "crashes_columns_drop = df_crashes[['CRASH_DATE', 'CRASH_HOUR', 'CRASH_DAY_OF_WEEK', 'RD_NO', 'CRASH_DATE_EST_I', 'DATE_POLICE_NOTIFIED','TRAFFIC_CONTROL_DEVICE',\n",
    "                                   'DEVICE_CONDITION', 'STREET_NO',\n",
    "                        'STREET_DIRECTION', 'STREET_NAME', 'BEAT_OF_OCCURRENCE','PHOTOS_TAKEN_I', 'STATEMENTS_TAKEN_I', \n",
    "                        'DOORING_I', 'WORK_ZONE_I', 'WORK_ZONE_TYPE', 'WORKERS_PRESENT_I', 'LANE_CNT','REPORT_TYPE', 'CRASH_MONTH','LATITUDE',\n",
    "                        'LONGITUDE','LOCATION','INJURIES_TOTAL','INJURIES_FATAL', 'INJURIES_INCAPACITATING','INJURIES_NON_INCAPACITATING',\n",
    "                        'INJURIES_REPORTED_NOT_EVIDENT','INJURIES_NO_INDICATION', 'INJURIES_UNKNOWN','CRASH_MONTH','TRAFFICWAY_TYPE',\n",
    "                        'PRIM_CONTRIBUTORY_CAUSE','SEC_CONTRIBUTORY_CAUSE','NOT_RIGHT_OF_WAY_I','HIT_AND_RUN_I','INTERSECTION_RELATED_I']]\n",
    "\n",
    "vehicles_columns_drop = df_vehicles[['RD_NO', 'CRASH_DATE', 'LIC_PLATE_STATE', 'AREA_00_I', 'AREA_01_I', \n",
    "                                       'AREA_02_I', 'AREA_03_I','AREA_04_I','AREA_05_I','AREA_06_I','AREA_07_I',\n",
    "                                       'AREA_08_I','AREA_09_I','AREA_10_I','AREA_11_I','AREA_12_I','AREA_99_I',\n",
    "                                       'CMV_ID', 'USDOT_NO', 'CCMC_NO', 'ILCC_NO', 'COMMERCIAL_SRC', 'GVWR',\n",
    "                                       'CARRIER_NAME', 'CARRIER_CITY', 'HAZMAT_PLACARDS_I', 'HAZMAT_NAME', 'UN_NO',\n",
    "                                       'HAZMAT_PRESENT_I', 'HAZMAT_REPORT_I', 'HAZMAT_REPORT_NO', 'MCS_REPORT_I', \n",
    "                                       'IDOT_PERMIT_NO', 'WIDE_LOAD_I', 'TRAILER1_WIDTH', 'TRAILER2_WIDTH', 'TRAILER1_LENGTH', \n",
    "                                       'TRAILER2_LENGTH', 'TOTAL_VEHICLE_LENGTH', 'AXLE_CNT', 'LOAD_TYPE', 'HAZMAT_OUT_OF_SERVICE_I',\n",
    "                                        'MCS_OUT_OF_SERVICE_I', 'HAZMAT_CLASS', 'MAKE', 'MODEL', 'VEHICLE_YEAR', 'VEHICLE_DEFECT', \n",
    "                                       'VEHICLE_CONFIG', 'CARGO_BODY_TYPE', 'EXCEED_SPEED_LIMIT_I', 'TOWED_BY', 'TOWED_I', 'CARRIER_STATE',\n",
    "                                       'FIRE_I', 'MCS_REPORT_NO','HAZMAT_VIO_CAUSE_CRASH_I','MCS_VIO_CAUSE_CRASH_I', 'TOWED_TO',\n",
    "                                        'CMRC_VEH_I','VEHICLE_ID', 'OCCUPANT_CNT', 'NUM_PASSENGERS', 'TRAVEL_DIRECTION', 'MANEUVER',\n",
    "                                       'VEHICLE_USE', 'CRASH_UNIT_ID', 'UNIT_TYPE']]\n",
    "\n",
    "people_columns_drop = df_people[['RD_NO', 'CRASH_DATE', 'CITY', 'STATE', 'ZIPCODE', 'DRIVERS_LICENSE_STATE', 'DRIVERS_LICENSE_CLASS',\n",
    "                       'HOSPITAL', 'EMS_AGENCY', 'EMS_RUN_NO', 'DRIVER_ACTION', 'DRIVER_VISION', 'PHYSICAL_CONDITION', 'PEDPEDAL_ACTION',\n",
    "                       'PEDPEDAL_VISIBILITY', 'PEDPEDAL_LOCATION', 'BAC_RESULT', 'BAC_RESULT VALUE', 'CELL_PHONE_USE']]\n",
    "\n",
    "\n",
    "\n",
    "df_crashes.drop(columns=crashes_columns_drop, inplace=True)\n",
    "df_vehicles.drop(columns=vehicles_columns_drop, inplace=True)\n",
    "df_people.drop(columns=people_columns_drop, inplace=True)"
   ]
  },
  {
   "cell_type": "markdown",
   "metadata": {},
   "source": [
    "# Vehicle Dataframe mapping\n",
    "This is being mapped before merging because we have to pivot this dataframe to ensure no duplicates happen upon merging it will create 2 columns for vehicles and contact points, so best to map before hand when everything is in one column."
   ]
  },
  {
   "cell_type": "code",
   "execution_count": 4,
   "metadata": {},
   "outputs": [],
   "source": [
    "#Here we are mapping and applying functions for the columns that we are going to use from the vehicle DF,\n",
    "\n",
    "contact_map = {\n",
    "    'FRONT': 'Front',                \n",
    "    'OTHER' : 'Unknown',                \n",
    "    'REAR-LEFT' : 'Rear',           \n",
    "    'UNKNOWN' : 'Unknown',              \n",
    "    'REAR' : 'Rear',                 \n",
    "    'FRONT-LEFT' : 'Front',            \n",
    "    'FRONT-RIGHT' : 'Front',            \n",
    "    'TOTAL (ALL AREAS)' : 'Total',    \n",
    "    'SIDE-RIGHT' : 'Side',           \n",
    "    'SIDE-LEFT' : 'Side',          \n",
    "    'ROOF' : 'Roof',                  \n",
    "    'REAR-RIGHT' :'Roof',            \n",
    "    'UNDER CARRIAGE' : 'Under',\n",
    "    'NONE' : 'Unknown'\n",
    "}\n",
    "\n",
    "df_vehicles['Contact_Point'] = df_vehicles['FIRST_CONTACT_POINT'].map(contact_map)\n",
    "df_vehicles.drop('FIRST_CONTACT_POINT', axis=1, inplace=True)\n",
    "\n",
    "def label_vehicletype(row):\n",
    "    if row['VEHICLE_TYPE'] in ['PASSENGER']:\n",
    "        return 'Car'\n",
    "    elif row['VEHICLE_TYPE'] in ['SPORT UTILITY VEHICLE (SUV)', 'VAN/MINI-VAN']:\n",
    "        return 'SUV'\n",
    "    elif row['VEHICLE_TYPE'] in ['PICKUP','TRUCK - SINGLE UNIT','SINGLE UNIT TRUCK WITH TRAILER']:\n",
    "        return 'Truck'\n",
    "    elif row['VEHICLE_TYPE'] in ['BUS OVER 15 PASS.','TRACTOR W/ SEMI-TRAILER','BUS UP TO 15 PASS.', 'OTHER VEHICLE WITH TRAILER', 'TRACTOR W/O SEMI-TRAILER']:\n",
    "        return 'Large_vehicle'\n",
    "    elif row['VEHICLE_TYPE'] in ['MOTORCYCLE (OVER 150CC)','AUTOCYCLE','MOPED OR MOTORIZED BICYCLE', 'MOTOR DRIVEN CYCLE', 'ALL-TERRAIN VEHICLE (ATV)', \n",
    "                                 '3-WHEELED MOTORCYCLE (2 REAR WHEELS)', 'RECREATIONAL OFF-HIGHWAY VEHICLE (ROV)']:\n",
    "        return 'Motorcycle'\n",
    "    elif row['VEHICLE_TYPE'] in ['UNKNOWN/NA','OTHER','SNOWMOBILE', 'FARM EQUIPMENT']:\n",
    "        return 'Unknown'\n",
    "df_vehicles['VEHICLE_TYPE'] = df_vehicles.apply(lambda row: label_vehicletype(row), axis=1)"
   ]
  },
  {
   "cell_type": "markdown",
   "metadata": {},
   "source": [
    "# People Dataframe\n",
    "-kyle can you explain this process :)"
   ]
  },
  {
   "cell_type": "code",
   "execution_count": 5,
   "metadata": {},
   "outputs": [],
   "source": [
    "#Here we are setting up our people df\n",
    "#handling ages\n",
    "Age_Series = df_people.groupby(['CRASH_RECORD_ID'])[['AGE']].agg('median')\n",
    "#handling people count\n",
    "Person_Count_Series = df_people.groupby(['CRASH_RECORD_ID'])[['SEX']].agg('count')\n",
    "Person_Count_Series.rename(columns = {'SEX' : 'PERSON_COUNT'}, inplace = True)\n",
    "#handling airbag\n",
    "Airbag_Series = df_people.groupby(['CRASH_RECORD_ID'])[['AIRBAG_DEPLOYED']].first()\n",
    "Airbag_Series = pd.DataFrame(Airbag_Series['AIRBAG_DEPLOYED'].str.contains('DEPLOYED'))\n",
    "#handling safety \n",
    "Safety_Series = df_people.groupby(['CRASH_RECORD_ID'])[['SAFETY_EQUIPMENT']].first()\n",
    "equipment_list = ['NONE PRESENT','SAFETY BELT NOT USED','HELMET NOT USED','NOT DOT COMPLIANT MOTORCYCLE HELMET',\n",
    "                  'SHOULD/LAP BELT USED IMPROPERLY','CHILD RESTRAINT NOT USED','CHILD RESTRAINT USED IMPROPERLY']\n",
    "Safety_Series['BOOL'] = pd.DataFrame( (Safety_Series['SAFETY_EQUIPMENT'].isin(equipment_list)))\n",
    "\n",
    "Safety_Series[\"BOOL\"] =  ~Safety_Series[\"BOOL\"]\n",
    "Safety_Series.loc[Safety_Series['SAFETY_EQUIPMENT'] == 'USAGE UNKNOWN', ['BOOL']] = 'Unknown'\n",
    "Safety_Series = Safety_Series[['BOOL']]\n",
    "Safety_Series.rename(columns = {'BOOL' : 'SAFETY_EQUIPMENT'}, inplace = True)"
   ]
  },
  {
   "cell_type": "markdown",
   "metadata": {},
   "source": [
    "# Main Dataframe\n",
    "So below we are merging all our above code into one final df we can map and model from."
   ]
  },
  {
   "cell_type": "code",
   "execution_count": 6,
   "metadata": {},
   "outputs": [],
   "source": [
    "#merging our people series to crashes df\n",
    "df_crashes_people = df_crashes.merge(Age_Series, how='inner', on='CRASH_RECORD_ID').merge(Person_Count_Series, how='inner', on='CRASH_RECORD_ID').merge(Airbag_Series, how='inner', on='CRASH_RECORD_ID').merge(Safety_Series, how='inner', on='CRASH_RECORD_ID')\n",
    "\n",
    "#pivoting our vehicles df for merging\n",
    "pivot = pd.pivot_table(df_vehicles, columns ='UNIT_NO', index='CRASH_RECORD_ID', values ='VEHICLE_TYPE', aggfunc = 'first')\n",
    "pivot2 = pd.pivot_table(df_vehicles, columns = 'UNIT_NO', index='CRASH_RECORD_ID', values = 'Contact_Point', aggfunc = 'first')\n",
    "\n",
    "#merging our vehicle and crashes/people df to create maindf\n",
    "df_main = df_crashes_people.merge(pivot.iloc[:,1:3], how='inner', on='CRASH_RECORD_ID').merge(pivot2.iloc[:,1:3], how='inner', on='CRASH_RECORD_ID')"
   ]
  },
  {
   "cell_type": "markdown",
   "metadata": {},
   "source": [
    "# Setting up target:\n",
    "Below we are setting up our target of fatal or incapacititating injuries, we don't want EMS coming out to every single wreck that involves a minor or no injury."
   ]
  },
  {
   "cell_type": "code",
   "execution_count": 7,
   "metadata": {},
   "outputs": [],
   "source": [
    "#Setting up our target of fatal/incapacitating injuries\n",
    "df_main['FATAL/INCAPACITATING_INJURY'] = True\n",
    "\n",
    "injury_list = ['NO INDICATION OF INJURY','NONINCAPACITATING INJURY','REPORTED, NOT EVIDENT']\n",
    "\n",
    "df_main.loc[(df_main['MOST_SEVERE_INJURY'].isin(injury_list)) | (df_main['MOST_SEVERE_INJURY'].isna()), ['FATAL/INCAPACITATING_INJURY']] = False\n",
    "df_main = df_main.drop('MOST_SEVERE_INJURY', axis = 1)"
   ]
  },
  {
   "cell_type": "markdown",
   "metadata": {},
   "source": [
    "# Feature Engineering:\n",
    "Below we are feature engineering relevant columns for the modeling process.\n",
    "\n",
    "Features that we engineer are what a vehicles system would be able to pick up on:\n",
    "\n",
    "- Speed\n",
    "- Weather & lighting\n",
    "- Road condition\n",
    "- Crash type and damage\n",
    "- People count in crash and age (age would only be for the driver)\n",
    "- Saftey equipment deployed\n",
    "- Vehicle type and contact points\n"
   ]
  },
  {
   "cell_type": "code",
   "execution_count": 8,
   "metadata": {},
   "outputs": [],
   "source": [
    "#Here is our feature engineering in the main df to get our data ready for onehotencoding\n",
    "def label_weather(row):\n",
    "    if row['WEATHER_CONDITION'] in ['RAIN', 'SNOW','FREEZING RAIN/DRIZZLE','SLEET/HAIL','BLOWING SNOW']:\n",
    "        return 'RAIN/SNOW'\n",
    "    elif row['WEATHER_CONDITION'] in ['CLOUDY/OVERCAST', 'FOG/SMOKE/HAZE', 'SEVERE CROSS WIND GATE', 'BLOWING SAND, SOIL, DIRT','OTHER']:\n",
    "        return 'OTHER'\n",
    "    elif row['WEATHER_CONDITION'] in ['CLEAR']:\n",
    "        return 'CLEAR'\n",
    "    elif row['WEATHER_CONDITION'] in ['UNKNOWN']:\n",
    "        return 'UNKNOWN'\n",
    "\n",
    "\n",
    "df_main['WEATHER_CONDITION'] = df_main.apply(lambda row: label_weather(row), axis=1)\n",
    "\n",
    "def label_crashtype(row):\n",
    "    if row['FIRST_CRASH_TYPE'] in ['PARKED MOTOR VEHICLE','FIXED OBJECT','REAR TO REAR','REAR TO SIDE','ANIMAL','OTHER OBJECT']:\n",
    "        return 'PARKED/OBJECT/SLOW'\n",
    "    elif row['FIRST_CRASH_TYPE'] in ['REAR END', 'SIDESWIPE SAME DIRECTION', 'REAR TO FRONT']:\n",
    "        return 'SAME DIRECTION'\n",
    "    elif row['FIRST_CRASH_TYPE'] in ['HEAD ON','OVERTURNED','TRAIN']:\n",
    "        return 'HEAD ON/OVERTURNED/TRAIN'\n",
    "    elif row['FIRST_CRASH_TYPE'] in ['TURNING','ANGLE','SIDESWIPE OPPOSITE DIRECTION']:\n",
    "        return 'ANGEL/SIDE'\n",
    "    elif row['FIRST_CRASH_TYPE'] in ['PEDESTRIAN','PEDALCYCLIST','SIDESWIPE OPPOSITE DIRECTION']:\n",
    "        return 'PEDESTRIAN/CYCLIST'\n",
    "\n",
    "\n",
    "df_main['FIRST_CRASH_TYPE'] = df_main.apply(lambda row: label_crashtype(row), axis=1)\n",
    "\n",
    "\n",
    "df_main['ALIGNMENT'] = df_main['ALIGNMENT'].apply(lambda x: 'STRAIGHT AND LEVEL' if x == 'STRAIGHT AND LEVEL' else 'NOT STRAIGHT AND LEVEL')\n",
    "df_main['LIGHTING_CONDITION'] = df_main['LIGHTING_CONDITION'].apply(lambda x: 'TWILIGHT' if x == 'DUSK' or x == 'DAWN' else x)\n",
    "df_main['ROADWAY_SURFACE_COND'] = df_main['ROADWAY_SURFACE_COND'].apply(lambda x: 'OTHER' if x == 'SNOW OR SLUSH' or x == 'ICE' or x =='SAND, MUD, DIRT' else x)\n",
    "df_main['ROAD_DEFECT'] = df_main['ROAD_DEFECT'].apply(lambda x: 'DEFECT' if x == 'RUT, HOLES' or x == 'OTHER' or x =='WORN SURFACE' or x == 'SHOULDER DEFECT' or x == 'DEBRIS ON ROADWAY' else x)\n",
    "\n",
    "df_main['SAFETY_EQUIPMENT'] = df_main['SAFETY_EQUIPMENT'].apply(lambda x: 'Yes' if x == True else x)\n",
    "df_main['SAFETY_EQUIPMENT'] = df_main['SAFETY_EQUIPMENT'].apply(lambda x: 'No' if x == False else x)\n",
    "\n",
    "df_main['AIRBAG_DEPLOYED'] = df_main['AIRBAG_DEPLOYED'].apply(lambda x: 'Yes' if x == True else x)\n",
    "df_main['AIRBAG_DEPLOYED'] = df_main['AIRBAG_DEPLOYED'].apply(lambda x: 'No' if x == False else x)\n",
    "\n",
    "df_main['FATAL/INCAPACITATING_INJURY'] = df_main['FATAL/INCAPACITATING_INJURY'].apply(lambda x: 1 if x == True else x)\n",
    "df_main['FATAL/INCAPACITATING_INJURY'] = df_main['FATAL/INCAPACITATING_INJURY'].apply(lambda x: 0 if x == False else x)\n",
    "\n",
    "df_main['DAMAGE'] = df_main['DAMAGE'].apply(lambda x: 'OVER $1,500' if x == 'OVER $1,500' else 'UNDER $1,500')\n",
    "\n",
    "\n",
    "unit_map = {\n",
    "    1 : '1',                \n",
    "    2 : '2',                \n",
    "    3 : '3 or more',           \n",
    "    4 : '3 or more',              \n",
    "    5 : '3 or more',                 \n",
    "    6 : '3 or more',            \n",
    "    7 : '3 or more',            \n",
    "    8 : '3 or more',    \n",
    "    9 : '3 or more',           \n",
    "    10 : '3 or more',         \n",
    "    11 : '3 or more',                  \n",
    "    12 :'3 or more',            \n",
    "    14 : '3 or more',\n",
    "    15 : '3 or more',\n",
    "    16 : '3 or more',\n",
    "    18 : '3 or more',\n",
    "}\n",
    "\n",
    "df_main['NUM_UNITS'] = df_main['NUM_UNITS'].map(unit_map)\n",
    "\n",
    "def label_speed_limits(row):\n",
    "    if row['POSTED_SPEED_LIMIT'] <= 10:\n",
    "        return '0 to 10 mph'\n",
    "    elif row['POSTED_SPEED_LIMIT']  <= 20:\n",
    "        return '11 to 20mph'\n",
    "    elif row['POSTED_SPEED_LIMIT'] <= 30:\n",
    "        return '21 to 30mph'\n",
    "    elif row['POSTED_SPEED_LIMIT'] <= 40:\n",
    "        return '31 to 40mph'\n",
    "    elif row['POSTED_SPEED_LIMIT'] <= 50:\n",
    "        return '41 to 50mph'\n",
    "    elif row['POSTED_SPEED_LIMIT'] <= 60:\n",
    "        return '51 to 60mph'\n",
    "    elif row['POSTED_SPEED_LIMIT'] >= 61:\n",
    "        return '61mph and over'\n",
    "\n",
    "df_main['POSTED_SPEED_LIMIT'] = df_main.apply(lambda row: label_speed_limits(row), axis=1) \n",
    "\n",
    "def label_personcount(row):\n",
    "    if row['PERSON_COUNT'] == 1:\n",
    "        return 'One'\n",
    "    elif row['PERSON_COUNT']  == 2:\n",
    "        return 'Two'\n",
    "    elif row['PERSON_COUNT'] == 3:\n",
    "        return 'Three'\n",
    "    elif row['PERSON_COUNT'] == 4:\n",
    "        return 'Four'\n",
    "    elif row['PERSON_COUNT'] >= 5:\n",
    "        return 'Five or more'\n",
    "    \n",
    "df_main['PERSON_COUNT'] = df_main.apply(lambda row: label_personcount(row), axis=1) \n",
    "\n",
    "\n",
    "df_main['Vehicle1'] = df_main['1_x']\n",
    "df_main['Vehicle2'] = df_main['2_x']\n",
    "df_main['Contact1'] = df_main['1_y']\n",
    "df_main['Contact2'] = df_main['2_y']\n",
    "df_main = df_main.drop(['1_x', '2_x', '1_y', '2_y'], axis=1)"
   ]
  },
  {
   "cell_type": "markdown",
   "metadata": {},
   "source": [
    "# Dropping\n",
    "Below we are dropping NaN values in columns critical to our models performance"
   ]
  },
  {
   "cell_type": "code",
   "execution_count": 9,
   "metadata": {},
   "outputs": [],
   "source": [
    "#dropping na values\n",
    "df_main = df_main.dropna(subset = ['PERSON_COUNT', 'FIRST_CRASH_TYPE','AIRBAG_DEPLOYED', 'Vehicle1', 'Vehicle2', 'Contact1', 'Contact2'], axis = 0)"
   ]
  },
  {
   "cell_type": "markdown",
   "metadata": {},
   "source": [
    "# Train Test Split and Storing Model\n",
    "Here we are applying our train test split and storing df_main in a model df"
   ]
  },
  {
   "cell_type": "code",
   "execution_count": 10,
   "metadata": {},
   "outputs": [],
   "source": [
    "#storing model df\n",
    "model = df_main\n",
    "#Train test split\n",
    "X = model.drop('FATAL/INCAPACITATING_INJURY', axis = 1)\n",
    "y = model['FATAL/INCAPACITATING_INJURY']\n",
    "\n",
    "X_train, X_test, y_train, y_test = train_test_split(X, y, random_state = 42, test_size=.2)"
   ]
  },
  {
   "cell_type": "markdown",
   "metadata": {},
   "source": [
    "# Dummy Classifier"
   ]
  },
  {
   "cell_type": "code",
   "execution_count": 11,
   "metadata": {},
   "outputs": [
    {
     "name": "stdout",
     "output_type": "stream",
     "text": [
      "Dummy Classifier TEST Recall Score: 0.0\n",
      "Dummy Classifier TEST Precision Score: 0.0\n",
      "Dummy Classifier TEST F1 Score: 0.0\n",
      "Dummy Classifier TEST Accuracy Score: 0.9886898748266237\n"
     ]
    },
    {
     "name": "stderr",
     "output_type": "stream",
     "text": [
      "C:\\Users\\Clay\\anaconda3\\envs\\learn-env\\lib\\site-packages\\sklearn\\metrics\\_classification.py:1221: UndefinedMetricWarning: Precision is ill-defined and being set to 0.0 due to no predicted samples. Use `zero_division` parameter to control this behavior.\n",
      "  _warn_prf(average, modifier, msg_start, len(result))\n"
     ]
    },
    {
     "data": {
      "image/png": "[encoded data removed]",
      "text/plain": [
       "<Figure size 432x288 with 2 Axes>"
      ]
     },
     "metadata": {
      "needs_background": "light"
     },
     "output_type": "display_data"
    }
   ],
   "source": [
    "#Dummy classifier for baseline on evaluating our metrics \n",
    "dummy = DummyClassifier(strategy = 'most_frequent')\n",
    "\n",
    "dummy.fit(X_train,y_train)\n",
    "\n",
    "plot_confusion_matrix(dummy, X_test, y_test)\n",
    "\n",
    "print('Dummy Classifier TEST Recall Score:', recall_score(y_test,dummy.predict(X_test)))\n",
    "print('Dummy Classifier TEST Precision Score:', precision_score(y_test,dummy.predict(X_test)))\n",
    "print('Dummy Classifier TEST F1 Score:', f1_score(y_test,dummy.predict(X_test)))\n",
    "print('Dummy Classifier TEST Accuracy Score:', accuracy_score(y_test,dummy.predict(X_test)))"
   ]
  },
  {
   "cell_type": "markdown",
   "metadata": {},
   "source": [
    "# Imputer, OneHotEncoding, and Preprocessor:"
   ]
  },
  {
   "cell_type": "code",
   "execution_count": 12,
   "metadata": {},
   "outputs": [],
   "source": [
    "#setting up our Imputer, OHE, and preprocessor for pipelines \n",
    "num = ['AGE']\n",
    "cat = ['POSTED_SPEED_LIMIT', 'WEATHER_CONDITION', 'LIGHTING_CONDITION', 'FIRST_CRASH_TYPE', 'ALIGNMENT', 'ROADWAY_SURFACE_COND',\n",
    "      'ROAD_DEFECT', 'CRASH_TYPE', 'NUM_UNITS', 'PERSON_COUNT', 'AIRBAG_DEPLOYED', 'SAFETY_EQUIPMENT', 'Vehicle1', 'Vehicle2',\n",
    "      'Contact1', 'Contact2', 'DAMAGE']\n",
    "\n",
    "num_transformer = Pipeline(steps=[('imputer', SimpleImputer(strategy = 'median'))])\n",
    "\n",
    "cat_transformer = Pipeline(steps=[('onehot', OneHotEncoder(handle_unknown='ignore'))])\n",
    "\n",
    "preprocessor = ColumnTransformer(transformers=[('num', num_transformer, num),\n",
    "                                               ('cat', cat_transformer, cat)])\n"
   ]
  },
  {
   "cell_type": "markdown",
   "metadata": {},
   "source": [
    "# Models"
   ]
  },
  {
   "cell_type": "code",
   "execution_count": 13,
   "metadata": {},
   "outputs": [
    {
     "name": "stdout",
     "output_type": "stream",
     "text": [
      "Training Precision:  0.0503499354488007\n",
      "Testing Precision:  0.05138000935599563\n",
      "\n",
      "\n",
      "\n",
      "Training Recall:  0.9986522911051213\n",
      "Testing Recall:  0.9977289931869796\n",
      "\n",
      "\n",
      "\n",
      "Training Accuracy:  0.7905802979937542\n",
      "Testing Accuracy:  0.7916317060223634\n",
      "\n",
      "\n",
      "\n",
      "Training F1-Score:  0.09586648554240247\n",
      "Testing F1-Score:  0.09772735698661625\n",
      "\n",
      "\n",
      "\n",
      "AUC: 0.9291901523140855\n"
     ]
    },
    {
     "data": {
      "image/png": "[encoded data removed]",
      "text/plain": [
       "<Figure size 720x576 with 1 Axes>"
      ]
     },
     "metadata": {
      "needs_background": "light"
     },
     "output_type": "display_data"
    },
    {
     "name": "stdout",
     "output_type": "stream",
     "text": [
      "Confusion Matrix\n"
     ]
    },
    {
     "data": {
      "text/plain": [
       "<sklearn.metrics._plot.confusion_matrix.ConfusionMatrixDisplay at 0x17a4415f040>"
      ]
     },
     "execution_count": 13,
     "metadata": {},
     "output_type": "execute_result"
    },
    {
     "data": {
      "image/png": "[encoded data removed]",
      "text/plain": [
       "<Figure size 432x288 with 2 Axes>"
      ]
     },
     "metadata": {
      "needs_background": "light"
     },
     "output_type": "display_data"
    }
   ],
   "source": [
    "#Logreg pipeline with best parameters\n",
    "logpipe = Pipeline(steps=[('preprocessor', preprocessor),\n",
    "                       ('classiffier', LogisticRegression(class_weight ='balanced', max_iter=850))])\n",
    "\n",
    "logpipe.fit(X_train,y_train)\n",
    "\n",
    "#Evaluation of Model\n",
    "y_hat_train = logpipe.predict(X_train)\n",
    "y_hat_test = logpipe.predict(X_test)\n",
    "\n",
    "print('Training Precision: ', precision_score(y_train, y_hat_train))\n",
    "print('Testing Precision: ', precision_score(y_test, y_hat_test))\n",
    "print('\\n\\n')\n",
    "\n",
    "print('Training Recall: ', recall_score(y_train, y_hat_train))\n",
    "print('Testing Recall: ', recall_score(y_test, y_hat_test))\n",
    "print('\\n\\n')\n",
    "\n",
    "print('Training Accuracy: ', accuracy_score(y_train, y_hat_train))\n",
    "print('Testing Accuracy: ', accuracy_score(y_test, y_hat_test))\n",
    "print('\\n\\n')\n",
    "\n",
    "print('Training F1-Score: ', f1_score(y_train, y_hat_train))\n",
    "print('Testing F1-Score: ', f1_score(y_test, y_hat_test))\n",
    "\n",
    "y_score = logpipe.fit(X_train, y_train).decision_function(X_test)\n",
    "fpr, tpr, thresholds = roc_curve(y_test, y_score)\n",
    "print('\\n\\n')\n",
    "\n",
    "print('AUC: {}'.format(auc(fpr, tpr)))\n",
    "plt.figure(figsize=(10, 8))\n",
    "lw = 2\n",
    "plt.plot(fpr, tpr, color='darkorange',\n",
    "         lw=lw, label='ROC curve')\n",
    "plt.plot([0, 1], [0, 1], color='navy', lw=lw, linestyle='--')\n",
    "plt.xlim([0.0, 1.0])\n",
    "plt.ylim([0.0, 1.05])\n",
    "plt.yticks([i/20.0 for i in range(21)])\n",
    "plt.xticks([i/20.0 for i in range(21)])\n",
    "plt.xlabel('False Positive Rate')\n",
    "plt.ylabel('True Positive Rate')\n",
    "plt.title('Receiver operating characteristic (ROC) Curve')\n",
    "plt.legend(loc='lower right')\n",
    "plt.show()\n",
    "\n",
    "\n",
    "\n",
    "\n",
    "plot_confusion_matrix(logpipe, X_test, y_test);"
   ]
  },
  {
   "cell_type": "code",
   "execution_count": 14,
   "metadata": {},
   "outputs": [
    {
     "name": "stdout",
     "output_type": "stream",
     "text": [
      "Training Precision:  0.8812351543942993\n",
      "Testing Precision:  0.07110778443113773\n",
      "\n",
      "\n",
      "\n",
      "Training Recall:  1.0\n",
      "Testing Recall:  0.07191521574564724\n",
      "\n",
      "\n",
      "\n",
      "Training Accuracy:  0.9985016834656489\n",
      "Testing Accuracy:  0.9788780629805305\n",
      "\n",
      "\n",
      "\n",
      "Training F1-Score:  0.9368686868686869\n",
      "Testing F1-Score:  0.07150922092585622\n",
      "Confusion Matrix <sklearn.metrics._plot.confusion_matrix.ConfusionMatrixDisplay object at 0x0000017A202904C0>\n"
     ]
    },
    {
     "data": {
      "image/png": "[encoded data removed]",
      "text/plain": [
       "<Figure size 432x288 with 2 Axes>"
      ]
     },
     "metadata": {
      "needs_background": "light"
     },
     "output_type": "display_data"
    }
   ],
   "source": [
    "#Descision Tree best parameter \n",
    "dtpipe = Pipeline(steps=[('preprocessor', preprocessor),\n",
    "                       ('classifier', DecisionTreeClassifier( class_weight = 'balanced'))])\n",
    "\n",
    "dtpipe.fit(X_train,y_train)\n",
    "\n",
    "#Evaluation of Model\n",
    "y_hat_train = dtpipe.predict(X_train)\n",
    "y_hat_test = dtpipe.predict(X_test)\n",
    "\n",
    "print('Training Precision: ', precision_score(y_train, y_hat_train))\n",
    "print('Testing Precision: ', precision_score(y_test, y_hat_test))\n",
    "print('\\n\\n')\n",
    "\n",
    "print('Training Recall: ', recall_score(y_train, y_hat_train))\n",
    "print('Testing Recall: ', recall_score(y_test, y_hat_test))\n",
    "print('\\n\\n')\n",
    "\n",
    "print('Training Accuracy: ', accuracy_score(y_train, y_hat_train))\n",
    "print('Testing Accuracy: ', accuracy_score(y_test, y_hat_test))\n",
    "print('\\n\\n')\n",
    "\n",
    "print('Training F1-Score: ', f1_score(y_train, y_hat_train))\n",
    "print('Testing F1-Score: ', f1_score(y_test, y_hat_test))\n",
    "\n",
    "\n",
    "\n",
    "\n",
    "plot_confusion_matrix(dtpipe, X_test, y_test);"
   ]
  },
  {
   "cell_type": "code",
   "execution_count": 15,
   "metadata": {},
   "outputs": [
    {
     "name": "stdout",
     "output_type": "stream",
     "text": [
      "Training Precision:  0.05188792448302068\n",
      "Testing Precision:  0.052877263581488934\n",
      "\n",
      "\n",
      "\n",
      "Training Recall:  0.9990373507893724\n",
      "Testing Recall:  0.9947009841029523\n",
      "\n",
      "\n",
      "\n",
      "Training Accuracy:  0.7970423231611911\n",
      "Testing Accuracy:  0.7984297676330074\n",
      "\n",
      "\n",
      "\n",
      "Training F1-Score:  0.09865206562862412\n",
      "Testing F1-Score:  0.10041649153643345\n"
     ]
    },
    {
     "data": {
      "image/png": "[encoded data removed]",
      "text/plain": [
       "<Figure size 432x288 with 2 Axes>"
      ]
     },
     "metadata": {
      "needs_background": "light"
     },
     "output_type": "display_data"
    }
   ],
   "source": [
    "rfpipe = Pipeline(steps=[('preprocessor', preprocessor),\n",
    "                       ('classifier', RandomForestClassifier( max_depth = 10, class_weight = 'balanced_subsample'))])\n",
    "\n",
    "rfpipe.fit(X_train,y_train)\n",
    "\n",
    "#Evaluation of Model\n",
    "y_hat_train = rfpipe.predict(X_train)\n",
    "y_hat_test = rfpipe.predict(X_test)\n",
    "\n",
    "print('Training Precision: ', precision_score(y_train, y_hat_train))\n",
    "print('Testing Precision: ', precision_score(y_test, y_hat_test))\n",
    "print('\\n\\n')\n",
    "\n",
    "print('Training Recall: ', recall_score(y_train, y_hat_train))\n",
    "print('Testing Recall: ', recall_score(y_test, y_hat_test))\n",
    "print('\\n\\n')\n",
    "\n",
    "print('Training Accuracy: ', accuracy_score(y_train, y_hat_train))\n",
    "print('Testing Accuracy: ', accuracy_score(y_test, y_hat_test))\n",
    "print('\\n\\n')\n",
    "\n",
    "print('Training F1-Score: ', f1_score(y_train, y_hat_train))\n",
    "print('Testing F1-Score: ', f1_score(y_test, y_hat_test))\n",
    "\n",
    "\n",
    "\n",
    "\n",
    "plot_confusion_matrix(rfpipe, X_test, y_test);"
   ]
  },
  {
   "cell_type": "code",
   "execution_count": 16,
   "metadata": {},
   "outputs": [
    {
     "name": "stdout",
     "output_type": "stream",
     "text": [
      "Training Precision:  0.05608768530813941\n",
      "Testing Precision:  0.05489061335437766\n",
      "\n",
      "\n",
      "\n",
      "Training Recall:  0.9921062764728533\n",
      "Testing Recall:  0.9477668433005298\n",
      "\n",
      "\n",
      "\n",
      "Training Accuracy:  0.8142900869237635\n",
      "Testing Accuracy:  0.8148427199095875\n",
      "\n",
      "\n",
      "\n",
      "Training F1-Score:  0.10617299212922898\n",
      "Testing F1-Score:  0.1037712391214256\n"
     ]
    },
    {
     "data": {
      "image/png": "[encoded data removed]",
      "text/plain": [
       "<Figure size 432x288 with 2 Axes>"
      ]
     },
     "metadata": {
      "needs_background": "light"
     },
     "output_type": "display_data"
    }
   ],
   "source": [
    "adapipe = Pipeline(steps=[('preprocessor', preprocessor),\n",
    "                       ('classifier', AdaBoostClassifier(base_estimator=DecisionTreeClassifier(class_weight = 'balanced', max_depth = 3)) )])\n",
    "\n",
    "adapipe.fit(X_train,y_train)\n",
    "\n",
    "#Evaluation of Model\n",
    "y_hat_train = adapipe.predict(X_train)\n",
    "y_hat_test = adapipe.predict(X_test)\n",
    "\n",
    "print('Training Precision: ', precision_score(y_train, y_hat_train))\n",
    "print('Testing Precision: ', precision_score(y_test, y_hat_test))\n",
    "print('\\n\\n')\n",
    "\n",
    "print('Training Recall: ', recall_score(y_train, y_hat_train))\n",
    "print('Testing Recall: ', recall_score(y_test, y_hat_test))\n",
    "print('\\n\\n')\n",
    "\n",
    "print('Training Accuracy: ', accuracy_score(y_train, y_hat_train))\n",
    "print('Testing Accuracy: ', accuracy_score(y_test, y_hat_test))\n",
    "print('\\n\\n')\n",
    "\n",
    "print('Training F1-Score: ', f1_score(y_train, y_hat_train))\n",
    "print('Testing F1-Score: ', f1_score(y_test, y_hat_test))\n",
    "\n",
    "\n",
    "\n",
    "\n",
    "plot_confusion_matrix(adapipe, X_test, y_test);"
   ]
  },
  {
   "cell_type": "code",
   "execution_count": 17,
   "metadata": {},
   "outputs": [
    {
     "name": "stdout",
     "output_type": "stream",
     "text": [
      "Training Precision:  0.7580645161290323\n",
      "Testing Precision:  0.3333333333333333\n",
      "\n",
      "\n",
      "\n",
      "Training Recall:  0.009048902579899884\n",
      "Testing Recall:  0.003785011355034065\n",
      "\n",
      "\n",
      "\n",
      "Training Accuracy:  0.988950985785257\n",
      "Testing Accuracy:  0.9886470658744156\n",
      "\n",
      "\n",
      "\n",
      "Training F1-Score:  0.017884322678843226\n",
      "Testing F1-Score:  0.007485029940119761\n"
     ]
    },
    {
     "data": {
      "image/png": "[encoded data removed]",
      "text/plain": [
       "<Figure size 432x288 with 2 Axes>"
      ]
     },
     "metadata": {
      "needs_background": "light"
     },
     "output_type": "display_data"
    }
   ],
   "source": [
    "gbpipe = pipe4 = Pipeline(steps=[('preprocessor', preprocessor),\n",
    "                       ('classifier', GradientBoostingClassifier() )])\n",
    "\n",
    "gbpipe.fit(X_train,y_train)\n",
    "\n",
    "y_hat_train = gbpipe.predict(X_train)\n",
    "y_hat_test = gbpipe.predict(X_test)\n",
    "\n",
    "print('Training Precision: ', precision_score(y_train, y_hat_train))\n",
    "print('Testing Precision: ', precision_score(y_test, y_hat_test))\n",
    "print('\\n\\n')\n",
    "\n",
    "print('Training Recall: ', recall_score(y_train, y_hat_train))\n",
    "print('Testing Recall: ', recall_score(y_test, y_hat_test))\n",
    "print('\\n\\n')\n",
    "\n",
    "print('Training Accuracy: ', accuracy_score(y_train, y_hat_train))\n",
    "print('Testing Accuracy: ', accuracy_score(y_test, y_hat_test))\n",
    "print('\\n\\n')\n",
    "\n",
    "print('Training F1-Score: ', f1_score(y_train, y_hat_train))\n",
    "print('Testing F1-Score: ', f1_score(y_test, y_hat_test))\n",
    "\n",
    "\n",
    "\n",
    "\n",
    "plot_confusion_matrix(gbpipe, X_test, y_test);"
   ]
  },
  {
   "cell_type": "code",
   "execution_count": 18,
   "metadata": {},
   "outputs": [
    {
     "name": "stdout",
     "output_type": "stream",
     "text": [
      "Training Precision:  0.050359712230215826\n",
      "Testing Precision:  0.05132398753894081\n",
      "\n",
      "\n",
      "\n",
      "Training Recall:  1.0\n",
      "Testing Recall:  0.9977289931869796\n",
      "\n",
      "\n",
      "\n",
      "Training Accuracy:  0.7903555505136015\n",
      "Testing Accuracy:  0.7913919758899981\n",
      "\n",
      "\n",
      "\n",
      "Training F1-Score:  0.09589041095890412\n",
      "Testing F1-Score:  0.09762601385133884\n"
     ]
    },
    {
     "data": {
      "image/png": "[encoded data removed]",
      "text/plain": [
       "<Figure size 432x288 with 2 Axes>"
      ]
     },
     "metadata": {
      "needs_background": "light"
     },
     "output_type": "display_data"
    }
   ],
   "source": [
    "xgpipe = Pipeline(steps=[('preprocessor', preprocessor),\n",
    "                       ('classifier', XGBClassifier(max_depth = 4, eta = 0.1, scale_pos_weight = 700,  tree_method = 'hist' ))])  \n",
    "\n",
    "xgpipe.fit(X_train,y_train)\n",
    "\n",
    "y_hat_train = xgpipe.predict(X_train)\n",
    "y_hat_test = xgpipe.predict(X_test)\n",
    "\n",
    "print('Training Precision: ', precision_score(y_train, y_hat_train))\n",
    "print('Testing Precision: ', precision_score(y_test, y_hat_test))\n",
    "print('\\n\\n')\n",
    "\n",
    "print('Training Recall: ', recall_score(y_trao9in, y_hat_train))\n",
    "print('Testing Recall: ', recall_score(y_test, y_hat_test))\n",
    "print('\\n\\n')\n",
    "\n",
    "print('Training Accuracy: ', accuracy_score(y_train, y_hat_train))\n",
    "print('Testing Accuracy: ', accuracy_score(y_test, y_hat_test))\n",
    "print('\\n\\n')\n",
    "\n",
    "print('Training F1-Score: ', f1_score(y_train, y_hat_train))\n",
    "print('Testing F1-Score: ', f1_score(y_test, y_hat_test))\n",
    "\n",
    "\n",
    "\n",
    "\n",
    "plot_confusion_matrix(xgpipe, X_test, y_test);"
   ]
  },
  {
   "cell_type": "markdown",
   "metadata": {},
   "source": [
    "# Visualizations in presentation"
   ]
  },
  {
   "cell_type": "code",
   "execution_count": 19,
   "metadata": {},
   "outputs": [
    {
     "name": "stderr",
     "output_type": "stream",
     "text": [
      "<ipython-input-19-91d5d7379ab8>:4: UserWarning: FixedFormatter should only be used together with FixedLocator\n",
      "  hist.set(xticklabels=['On Scene', 'Desk'])\n",
      "<ipython-input-19-91d5d7379ab8>:5: UserWarning: FixedFormatter should only be used together with FixedLocator\n",
      "  hist.set(yticklabels=['0', '50k', '100k', '150k', '200k', '250k', '300k', '350k']);\n"
     ]
    },
    {
     "data": {
      "image/png": "[encoded data removed]",
      "text/plain": [
       "<Figure size 432x288 with 1 Axes>"
      ]
     },
     "metadata": {
      "needs_background": "light"
     },
     "output_type": "display_data"
    }
   ],
   "source": [
    "hist = sns.histplot(data=df_crashes2, x='REPORT_TYPE', color='#3489eb')\n",
    "\n",
    "hist.set(xlabel=None,ylabel='Count', title='E-Crash Reports');\n",
    "hist.set(xticklabels=['On Scene', 'Desk'])\n",
    "hist.set(yticklabels=['0', '50k', '100k', '150k', '200k', '250k', '300k', '350k']);"
   ]
  },
  {
   "cell_type": "code",
   "execution_count": 21,
   "metadata": {},
   "outputs": [
    {
     "data": {
      "image/png": "[encoded data removed]",
      "text/plain": [
       "<Figure size 432x288 with 1 Axes>"
      ]
     },
     "metadata": {},
     "output_type": "display_data"
    }
   ],
   "source": [
    "sns.set_theme(style=\"white\", palette='Blues')\n",
    "\n",
    "sns.color_palette(\"Blues\", as_cmap=True)\n",
    "\n",
    "bar = sns.barplot(\n",
    "    data=df_main, x=\"POSTED_SPEED_LIMIT\", y=\"FATAL/INCAPACITATING_INJURY\",\n",
    "    order=['0 to 10 mph', '11 to 20mph', '21 to 30mph', '31 to 40mph', '41 to 50mph', '51 to 60mph', '61mph and over'],\n",
    "    errwidth= .1,\n",
    "    palette='Blues'\n",
    ")\n",
    "bar.set(xlabel='MPH', ylabel='Serious Injury', title='Speed and Serious injury')\n",
    "bar.set(xticklabels=['0-10', '11-20', '21-30', '31-40', '41-50', '51-60', '61+'])\n",
    "bar.set(yticklabels=[])\n",
    "ax.set_xlim(-.5, 6.5);"
   ]
  },
  {
   "cell_type": "code",
   "execution_count": null,
   "metadata": {},
   "outputs": [],
   "source": []
  }
 ],
 "metadata": {
  "kernelspec": {
   "display_name": "Python 3",
   "language": "python",
   "name": "python3"
  },
  "language_info": {
   "codemirror_mode": {
    "name": "ipython",
    "version": 3
   },
   "file_extension": ".py",
   "mimetype": "text/x-python",
   "name": "python",
   "nbconvert_exporter": "python",
   "pygments_lexer": "ipython3",
   "version": "3.8.5"
  }
 },
 "nbformat": 4,
 "nbformat_minor": 2
}
