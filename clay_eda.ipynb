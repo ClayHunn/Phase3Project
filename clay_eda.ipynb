{
 "cells": [
  {
   "cell_type": "code",
   "execution_count": 1,
   "metadata": {},
   "outputs": [
    {
     "name": "stderr",
     "output_type": "stream",
     "text": [
      "C:\\Users\\Clay\\anaconda3\\envs\\learn-env\\lib\\site-packages\\IPython\\core\\interactiveshell.py:3145: DtypeWarning: Columns (20,24,25,26,29) have mixed types.Specify dtype option on import or set low_memory=False.\n",
      "  has_raised = await self.run_ast_nodes(code_ast.body, cell_name,\n",
      "C:\\Users\\Clay\\anaconda3\\envs\\learn-env\\lib\\site-packages\\IPython\\core\\interactiveshell.py:3145: DtypeWarning: Columns (19,21,40,41,42,44,48,49,50,53,55,58,59,61,71) have mixed types.Specify dtype option on import or set low_memory=False.\n",
      "  has_raised = await self.run_ast_nodes(code_ast.body, cell_name,\n"
     ]
    }
   ],
   "source": [
    "import pandas as pd\n",
    "import matplotlib.pyplot as plt\n",
    "from sklearn.model_selection import train_test_split\n",
    "\n",
    "# Load the data\n",
    "df_crashes = pd.read_csv('data/Traffic_Crashes_-_Crashes.csv')\n",
    "df_people = pd.read_csv('data/Traffic_Crashes_-_People.csv')\n",
    "df_vehicles = pd.read_csv('data/Traffic_Crashes_-_Vehicles.csv')"
   ]
  },
  {
   "cell_type": "code",
   "execution_count": 2,
   "metadata": {},
   "outputs": [
    {
     "data": {
      "text/plain": [
       "LOCATION\n",
       "POINT (-87.905309125103 41.976201139024)    985\n",
       "POINT (-87.619928173678 41.900958919109)    601\n",
       "POINT (-87.580147768689 41.791420282098)    460\n",
       "POINT (-87.585971992965 41.751460603167)    444\n",
       "POINT (-87.585275565077 41.722257273006)    363\n",
       "                                           ... \n",
       "POINT (-87.696951130821 41.908506846481)      1\n",
       "POINT (-87.696950771213 41.985478259743)      1\n",
       "POINT (-87.696949607476 41.994489826739)      1\n",
       "POINT (-87.696949565133 41.824245325812)      1\n",
       "POINT (-87.680487782752 42.004230539066)      1\n",
       "Length: 260235, dtype: int64"
      ]
     },
     "execution_count": 2,
     "metadata": {},
     "output_type": "execute_result"
    }
   ],
   "source": [
    "#this was for figuring out what columns to drop from crashes df\n",
    "df_crashes.value_counts('LOCATION')"
   ]
  },
  {
   "cell_type": "code",
   "execution_count": 3,
   "metadata": {},
   "outputs": [
    {
     "data": {
      "text/plain": [
       "0"
      ]
     },
     "execution_count": 3,
     "metadata": {},
     "output_type": "execute_result"
    }
   ],
   "source": [
    "#this was for figuring out what columns to drop from crashes df\n",
    "df_crashes['CRASH_DATE'].isnull().values.sum()"
   ]
  },
  {
   "cell_type": "code",
   "execution_count": 4,
   "metadata": {
    "scrolled": true
   },
   "outputs": [
    {
     "name": "stdout",
     "output_type": "stream",
     "text": [
      "<class 'pandas.core.frame.DataFrame'>\n",
      "RangeIndex: 655182 entries, 0 to 655181\n",
      "Data columns (total 49 columns):\n",
      " #   Column                         Non-Null Count   Dtype  \n",
      "---  ------                         --------------   -----  \n",
      " 0   CRASH_RECORD_ID                655182 non-null  object \n",
      " 1   RD_NO                          650595 non-null  object \n",
      " 2   CRASH_DATE_EST_I               49695 non-null   object \n",
      " 3   CRASH_DATE                     655182 non-null  object \n",
      " 4   POSTED_SPEED_LIMIT             655182 non-null  int64  \n",
      " 5   TRAFFIC_CONTROL_DEVICE         655182 non-null  object \n",
      " 6   DEVICE_CONDITION               655182 non-null  object \n",
      " 7   WEATHER_CONDITION              655182 non-null  object \n",
      " 8   LIGHTING_CONDITION             655182 non-null  object \n",
      " 9   FIRST_CRASH_TYPE               655182 non-null  object \n",
      " 10  TRAFFICWAY_TYPE                655182 non-null  object \n",
      " 11  LANE_CNT                       198991 non-null  float64\n",
      " 12  ALIGNMENT                      655182 non-null  object \n",
      " 13  ROADWAY_SURFACE_COND           655182 non-null  object \n",
      " 14  ROAD_DEFECT                    655182 non-null  object \n",
      " 15  REPORT_TYPE                    637691 non-null  object \n",
      " 16  CRASH_TYPE                     655182 non-null  object \n",
      " 17  INTERSECTION_RELATED_I         149868 non-null  object \n",
      " 18  NOT_RIGHT_OF_WAY_I             30846 non-null   object \n",
      " 19  HIT_AND_RUN_I                  202162 non-null  object \n",
      " 20  DAMAGE                         655182 non-null  object \n",
      " 21  DATE_POLICE_NOTIFIED           655182 non-null  object \n",
      " 22  PRIM_CONTRIBUTORY_CAUSE        655182 non-null  object \n",
      " 23  SEC_CONTRIBUTORY_CAUSE         655182 non-null  object \n",
      " 24  STREET_NO                      655182 non-null  int64  \n",
      " 25  STREET_DIRECTION               655178 non-null  object \n",
      " 26  STREET_NAME                    655181 non-null  object \n",
      " 27  BEAT_OF_OCCURRENCE             655177 non-null  float64\n",
      " 28  PHOTOS_TAKEN_I                 8084 non-null    object \n",
      " 29  STATEMENTS_TAKEN_I             13513 non-null   object \n",
      " 30  DOORING_I                      2055 non-null    object \n",
      " 31  WORK_ZONE_I                    3895 non-null    object \n",
      " 32  WORK_ZONE_TYPE                 3056 non-null    object \n",
      " 33  WORKERS_PRESENT_I              997 non-null     object \n",
      " 34  NUM_UNITS                      655182 non-null  int64  \n",
      " 35  MOST_SEVERE_INJURY             653781 non-null  object \n",
      " 36  INJURIES_TOTAL                 653792 non-null  float64\n",
      " 37  INJURIES_FATAL                 653792 non-null  float64\n",
      " 38  INJURIES_INCAPACITATING        653792 non-null  float64\n",
      " 39  INJURIES_NON_INCAPACITATING    653792 non-null  float64\n",
      " 40  INJURIES_REPORTED_NOT_EVIDENT  653792 non-null  float64\n",
      " 41  INJURIES_NO_INDICATION         653792 non-null  float64\n",
      " 42  INJURIES_UNKNOWN               653792 non-null  float64\n",
      " 43  CRASH_HOUR                     655182 non-null  int64  \n",
      " 44  CRASH_DAY_OF_WEEK              655182 non-null  int64  \n",
      " 45  CRASH_MONTH                    655182 non-null  int64  \n",
      " 46  LATITUDE                       651108 non-null  float64\n",
      " 47  LONGITUDE                      651108 non-null  float64\n",
      " 48  LOCATION                       651108 non-null  object \n",
      "dtypes: float64(11), int64(6), object(32)\n",
      "memory usage: 244.9+ MB\n"
     ]
    }
   ],
   "source": [
    "df_crashes.info()"
   ]
  },
  {
   "cell_type": "code",
   "execution_count": 5,
   "metadata": {
    "scrolled": true
   },
   "outputs": [
    {
     "data": {
      "text/plain": [
       "CRASH_TYPE\n",
       "NO INJURY / DRIVE AWAY              0.73861\n",
       "INJURY AND / OR TOW DUE TO CRASH    0.26139\n",
       "dtype: float64"
      ]
     },
     "execution_count": 5,
     "metadata": {},
     "output_type": "execute_result"
    }
   ],
   "source": [
    "df_crashes.value_counts('CRASH_TYPE', normalize=True)"
   ]
  },
  {
   "cell_type": "code",
   "execution_count": 6,
   "metadata": {},
   "outputs": [
    {
     "data": {
      "text/plain": [
       "PRIM_CONTRIBUTORY_CAUSE\n",
       "UNABLE TO DETERMINE                                                                 250072\n",
       "FAILING TO YIELD RIGHT-OF-WAY                                                        71486\n",
       "FOLLOWING TOO CLOSELY                                                                65861\n",
       "NOT APPLICABLE                                                                       34579\n",
       "IMPROPER OVERTAKING/PASSING                                                          31604\n",
       "FAILING TO REDUCE SPEED TO AVOID CRASH                                               28186\n",
       "IMPROPER BACKING                                                                     27134\n",
       "IMPROPER LANE USAGE                                                                  24384\n",
       "IMPROPER TURNING/NO SIGNAL                                                           21627\n",
       "DRIVING SKILLS/KNOWLEDGE/EXPERIENCE                                                  21132\n",
       "DISREGARDING TRAFFIC SIGNALS                                                         12606\n",
       "WEATHER                                                                              10341\n",
       "OPERATING VEHICLE IN ERRATIC, RECKLESS, CARELESS, NEGLIGENT OR AGGRESSIVE MANNER      8370\n",
       "DISREGARDING STOP SIGN                                                                7332\n",
       "DISTRACTION - FROM INSIDE VEHICLE                                                     4649\n",
       "EQUIPMENT - VEHICLE CONDITION                                                         4194\n",
       "PHYSICAL CONDITION OF DRIVER                                                          4005\n",
       "VISION OBSCURED (SIGNS, TREE LIMBS, BUILDINGS, ETC.)                                  3788\n",
       "DRIVING ON WRONG SIDE/WRONG WAY                                                       3332\n",
       "UNDER THE INFLUENCE OF ALCOHOL/DRUGS (USE WHEN ARREST IS EFFECTED)                    3290\n",
       "DISTRACTION - FROM OUTSIDE VEHICLE                                                    2842\n",
       "EXCEEDING AUTHORIZED SPEED LIMIT                                                      1982\n",
       "ROAD ENGINEERING/SURFACE/MARKING DEFECTS                                              1740\n",
       "EXCEEDING SAFE SPEED FOR CONDITIONS                                                   1684\n",
       "ROAD CONSTRUCTION/MAINTENANCE                                                         1481\n",
       "DISREGARDING OTHER TRAFFIC SIGNS                                                      1420\n",
       "EVASIVE ACTION DUE TO ANIMAL, OBJECT, NONMOTORIST                                     1255\n",
       "CELL PHONE USE OTHER THAN TEXTING                                                      906\n",
       "DISREGARDING ROAD MARKINGS                                                             857\n",
       "HAD BEEN DRINKING (USE WHEN ARREST IS NOT MADE)                                        715\n",
       "ANIMAL                                                                                 540\n",
       "TURNING RIGHT ON RED                                                                   456\n",
       "DISTRACTION - OTHER ELECTRONIC DEVICE (NAVIGATION DEVICE, DVD PLAYER, ETC.)            307\n",
       "TEXTING                                                                                274\n",
       "RELATED TO BUS STOP                                                                    273\n",
       "DISREGARDING YIELD SIGN                                                                241\n",
       "PASSING STOPPED SCHOOL BUS                                                              84\n",
       "BICYCLE ADVANCING LEGALLY ON RED LIGHT                                                  74\n",
       "OBSTRUCTED CROSSWALKS                                                                   59\n",
       "MOTORCYCLE ADVANCING LEGALLY ON RED LIGHT                                               20\n",
       "dtype: int64"
      ]
     },
     "execution_count": 6,
     "metadata": {},
     "output_type": "execute_result"
    }
   ],
   "source": [
    "df_crashes.value_counts('PRIM_CONTRIBUTORY_CAUSE')"
   ]
  },
  {
   "cell_type": "code",
   "execution_count": 7,
   "metadata": {},
   "outputs": [
    {
     "data": {
      "text/html": [
       "<div>\n",
       "<style scoped>\n",
       "    .dataframe tbody tr th:only-of-type {\n",
       "        vertical-align: middle;\n",
       "    }\n",
       "\n",
       "    .dataframe tbody tr th {\n",
       "        vertical-align: top;\n",
       "    }\n",
       "\n",
       "    .dataframe thead th {\n",
       "        text-align: right;\n",
       "    }\n",
       "</style>\n",
       "<table border=\"1\" class=\"dataframe\">\n",
       "  <thead>\n",
       "    <tr style=\"text-align: right;\">\n",
       "      <th></th>\n",
       "      <th>CRASH_RECORD_ID</th>\n",
       "      <th>RD_NO</th>\n",
       "      <th>CRASH_DATE_EST_I</th>\n",
       "      <th>CRASH_DATE</th>\n",
       "      <th>POSTED_SPEED_LIMIT</th>\n",
       "      <th>TRAFFIC_CONTROL_DEVICE</th>\n",
       "      <th>DEVICE_CONDITION</th>\n",
       "      <th>WEATHER_CONDITION</th>\n",
       "      <th>LIGHTING_CONDITION</th>\n",
       "      <th>FIRST_CRASH_TYPE</th>\n",
       "      <th>...</th>\n",
       "      <th>INJURIES_NON_INCAPACITATING</th>\n",
       "      <th>INJURIES_REPORTED_NOT_EVIDENT</th>\n",
       "      <th>INJURIES_NO_INDICATION</th>\n",
       "      <th>INJURIES_UNKNOWN</th>\n",
       "      <th>CRASH_HOUR</th>\n",
       "      <th>CRASH_DAY_OF_WEEK</th>\n",
       "      <th>CRASH_MONTH</th>\n",
       "      <th>LATITUDE</th>\n",
       "      <th>LONGITUDE</th>\n",
       "      <th>LOCATION</th>\n",
       "    </tr>\n",
       "  </thead>\n",
       "  <tbody>\n",
       "    <tr>\n",
       "      <th>0</th>\n",
       "      <td>062f5a6f6b87b762165d4da04d6d3a181385776a10b051...</td>\n",
       "      <td>JF378246</td>\n",
       "      <td>NaN</td>\n",
       "      <td>08/31/2022 10:13:00 PM</td>\n",
       "      <td>30</td>\n",
       "      <td>NO CONTROLS</td>\n",
       "      <td>NO CONTROLS</td>\n",
       "      <td>CLEAR</td>\n",
       "      <td>DARKNESS, LIGHTED ROAD</td>\n",
       "      <td>SIDESWIPE SAME DIRECTION</td>\n",
       "      <td>...</td>\n",
       "      <td>2.0</td>\n",
       "      <td>0.0</td>\n",
       "      <td>1.0</td>\n",
       "      <td>0.0</td>\n",
       "      <td>22</td>\n",
       "      <td>4</td>\n",
       "      <td>8</td>\n",
       "      <td>41.959389</td>\n",
       "      <td>-87.747348</td>\n",
       "      <td>POINT (-87.747347903299 41.959389159692)</td>\n",
       "    </tr>\n",
       "    <tr>\n",
       "      <th>1</th>\n",
       "      <td>0115ade9a755e835255508463f7e9c4a9a0b47e9304238...</td>\n",
       "      <td>JF318029</td>\n",
       "      <td>NaN</td>\n",
       "      <td>07/15/2022 12:45:00 AM</td>\n",
       "      <td>30</td>\n",
       "      <td>UNKNOWN</td>\n",
       "      <td>UNKNOWN</td>\n",
       "      <td>CLEAR</td>\n",
       "      <td>DARKNESS, LIGHTED ROAD</td>\n",
       "      <td>ANGLE</td>\n",
       "      <td>...</td>\n",
       "      <td>0.0</td>\n",
       "      <td>0.0</td>\n",
       "      <td>2.0</td>\n",
       "      <td>0.0</td>\n",
       "      <td>0</td>\n",
       "      <td>6</td>\n",
       "      <td>7</td>\n",
       "      <td>41.886336</td>\n",
       "      <td>-87.716203</td>\n",
       "      <td>POINT (-87.716203130599 41.886336409761)</td>\n",
       "    </tr>\n",
       "    <tr>\n",
       "      <th>2</th>\n",
       "      <td>017040c61958d2fa977c956b2bd2d6759ef7754496dc96...</td>\n",
       "      <td>JF324552</td>\n",
       "      <td>NaN</td>\n",
       "      <td>07/15/2022 06:50:00 PM</td>\n",
       "      <td>30</td>\n",
       "      <td>TRAFFIC SIGNAL</td>\n",
       "      <td>FUNCTIONING PROPERLY</td>\n",
       "      <td>CLEAR</td>\n",
       "      <td>DAYLIGHT</td>\n",
       "      <td>REAR END</td>\n",
       "      <td>...</td>\n",
       "      <td>0.0</td>\n",
       "      <td>0.0</td>\n",
       "      <td>2.0</td>\n",
       "      <td>0.0</td>\n",
       "      <td>18</td>\n",
       "      <td>6</td>\n",
       "      <td>7</td>\n",
       "      <td>41.925111</td>\n",
       "      <td>-87.667997</td>\n",
       "      <td>POINT (-87.667997321599 41.925110815832)</td>\n",
       "    </tr>\n",
       "    <tr>\n",
       "      <th>3</th>\n",
       "      <td>01aaa759c6bbefd0f584226fbd88bdc549de3ed1e46255...</td>\n",
       "      <td>JF319819</td>\n",
       "      <td>NaN</td>\n",
       "      <td>07/15/2022 05:10:00 PM</td>\n",
       "      <td>40</td>\n",
       "      <td>NO CONTROLS</td>\n",
       "      <td>NO CONTROLS</td>\n",
       "      <td>CLOUDY/OVERCAST</td>\n",
       "      <td>DAYLIGHT</td>\n",
       "      <td>ANGLE</td>\n",
       "      <td>...</td>\n",
       "      <td>0.0</td>\n",
       "      <td>0.0</td>\n",
       "      <td>2.0</td>\n",
       "      <td>0.0</td>\n",
       "      <td>17</td>\n",
       "      <td>6</td>\n",
       "      <td>7</td>\n",
       "      <td>41.975826</td>\n",
       "      <td>-87.650420</td>\n",
       "      <td>POINT (-87.650419778017 41.975826016449)</td>\n",
       "    </tr>\n",
       "    <tr>\n",
       "      <th>4</th>\n",
       "      <td>04f21d51f8189e34abf37c7973607fa076965d216b514f...</td>\n",
       "      <td>JC366684</td>\n",
       "      <td>NaN</td>\n",
       "      <td>07/22/2019 12:00:00 PM</td>\n",
       "      <td>30</td>\n",
       "      <td>NO CONTROLS</td>\n",
       "      <td>NO CONTROLS</td>\n",
       "      <td>CLEAR</td>\n",
       "      <td>DAYLIGHT</td>\n",
       "      <td>PEDALCYCLIST</td>\n",
       "      <td>...</td>\n",
       "      <td>0.0</td>\n",
       "      <td>0.0</td>\n",
       "      <td>1.0</td>\n",
       "      <td>0.0</td>\n",
       "      <td>12</td>\n",
       "      <td>2</td>\n",
       "      <td>7</td>\n",
       "      <td>41.737337</td>\n",
       "      <td>-87.563560</td>\n",
       "      <td>POINT (-87.563560484875 41.737337119112)</td>\n",
       "    </tr>\n",
       "  </tbody>\n",
       "</table>\n",
       "<p>5 rows × 49 columns</p>\n",
       "</div>"
      ],
      "text/plain": [
       "                                     CRASH_RECORD_ID     RD_NO  \\\n",
       "0  062f5a6f6b87b762165d4da04d6d3a181385776a10b051...  JF378246   \n",
       "1  0115ade9a755e835255508463f7e9c4a9a0b47e9304238...  JF318029   \n",
       "2  017040c61958d2fa977c956b2bd2d6759ef7754496dc96...  JF324552   \n",
       "3  01aaa759c6bbefd0f584226fbd88bdc549de3ed1e46255...  JF319819   \n",
       "4  04f21d51f8189e34abf37c7973607fa076965d216b514f...  JC366684   \n",
       "\n",
       "  CRASH_DATE_EST_I              CRASH_DATE  POSTED_SPEED_LIMIT  \\\n",
       "0              NaN  08/31/2022 10:13:00 PM                  30   \n",
       "1              NaN  07/15/2022 12:45:00 AM                  30   \n",
       "2              NaN  07/15/2022 06:50:00 PM                  30   \n",
       "3              NaN  07/15/2022 05:10:00 PM                  40   \n",
       "4              NaN  07/22/2019 12:00:00 PM                  30   \n",
       "\n",
       "  TRAFFIC_CONTROL_DEVICE      DEVICE_CONDITION WEATHER_CONDITION  \\\n",
       "0            NO CONTROLS           NO CONTROLS             CLEAR   \n",
       "1                UNKNOWN               UNKNOWN             CLEAR   \n",
       "2         TRAFFIC SIGNAL  FUNCTIONING PROPERLY             CLEAR   \n",
       "3            NO CONTROLS           NO CONTROLS   CLOUDY/OVERCAST   \n",
       "4            NO CONTROLS           NO CONTROLS             CLEAR   \n",
       "\n",
       "       LIGHTING_CONDITION          FIRST_CRASH_TYPE  ...  \\\n",
       "0  DARKNESS, LIGHTED ROAD  SIDESWIPE SAME DIRECTION  ...   \n",
       "1  DARKNESS, LIGHTED ROAD                     ANGLE  ...   \n",
       "2                DAYLIGHT                  REAR END  ...   \n",
       "3                DAYLIGHT                     ANGLE  ...   \n",
       "4                DAYLIGHT              PEDALCYCLIST  ...   \n",
       "\n",
       "  INJURIES_NON_INCAPACITATING  INJURIES_REPORTED_NOT_EVIDENT  \\\n",
       "0                         2.0                            0.0   \n",
       "1                         0.0                            0.0   \n",
       "2                         0.0                            0.0   \n",
       "3                         0.0                            0.0   \n",
       "4                         0.0                            0.0   \n",
       "\n",
       "  INJURIES_NO_INDICATION INJURIES_UNKNOWN CRASH_HOUR CRASH_DAY_OF_WEEK  \\\n",
       "0                    1.0              0.0         22                 4   \n",
       "1                    2.0              0.0          0                 6   \n",
       "2                    2.0              0.0         18                 6   \n",
       "3                    2.0              0.0         17                 6   \n",
       "4                    1.0              0.0         12                 2   \n",
       "\n",
       "  CRASH_MONTH   LATITUDE  LONGITUDE                                  LOCATION  \n",
       "0           8  41.959389 -87.747348  POINT (-87.747347903299 41.959389159692)  \n",
       "1           7  41.886336 -87.716203  POINT (-87.716203130599 41.886336409761)  \n",
       "2           7  41.925111 -87.667997  POINT (-87.667997321599 41.925110815832)  \n",
       "3           7  41.975826 -87.650420  POINT (-87.650419778017 41.975826016449)  \n",
       "4           7  41.737337 -87.563560  POINT (-87.563560484875 41.737337119112)  \n",
       "\n",
       "[5 rows x 49 columns]"
      ]
     },
     "execution_count": 7,
     "metadata": {},
     "output_type": "execute_result"
    }
   ],
   "source": [
    "df_crashes.head()"
   ]
  },
  {
   "cell_type": "code",
   "execution_count": 8,
   "metadata": {},
   "outputs": [
    {
     "name": "stdout",
     "output_type": "stream",
     "text": [
      "<class 'pandas.core.frame.DataFrame'>\n",
      "RangeIndex: 1437611 entries, 0 to 1437610\n",
      "Data columns (total 30 columns):\n",
      " #   Column                 Non-Null Count    Dtype  \n",
      "---  ------                 --------------    -----  \n",
      " 0   PERSON_ID              1437611 non-null  object \n",
      " 1   PERSON_TYPE            1437611 non-null  object \n",
      " 2   CRASH_RECORD_ID        1437611 non-null  object \n",
      " 3   RD_NO                  1427609 non-null  object \n",
      " 4   VEHICLE_ID             1409360 non-null  float64\n",
      " 5   CRASH_DATE             1437611 non-null  object \n",
      " 6   SEAT_NO                291901 non-null   float64\n",
      " 7   CITY                   1050999 non-null  object \n",
      " 8   STATE                  1064623 non-null  object \n",
      " 9   ZIPCODE                960180 non-null   object \n",
      " 10  SEX                    1415368 non-null  object \n",
      " 11  AGE                    1020510 non-null  float64\n",
      " 12  DRIVERS_LICENSE_STATE  845447 non-null   object \n",
      " 13  DRIVERS_LICENSE_CLASS  718124 non-null   object \n",
      " 14  SAFETY_EQUIPMENT       1433524 non-null  object \n",
      " 15  AIRBAG_DEPLOYED        1410501 non-null  object \n",
      " 16  EJECTION               1420273 non-null  object \n",
      " 17  INJURY_CLASSIFICATION  1436979 non-null  object \n",
      " 18  HOSPITAL               250661 non-null   object \n",
      " 19  EMS_AGENCY             156403 non-null   object \n",
      " 20  EMS_RUN_NO             25665 non-null    object \n",
      " 21  DRIVER_ACTION          1143090 non-null  object \n",
      " 22  DRIVER_VISION          1142686 non-null  object \n",
      " 23  PHYSICAL_CONDITION     1143895 non-null  object \n",
      " 24  PEDPEDAL_ACTION        26726 non-null    object \n",
      " 25  PEDPEDAL_VISIBILITY    26671 non-null    object \n",
      " 26  PEDPEDAL_LOCATION      26722 non-null    object \n",
      " 27  BAC_RESULT             1144105 non-null  object \n",
      " 28  BAC_RESULT VALUE       1753 non-null     float64\n",
      " 29  CELL_PHONE_USE         1157 non-null     object \n",
      "dtypes: float64(4), object(26)\n",
      "memory usage: 329.0+ MB\n"
     ]
    }
   ],
   "source": [
    "df_people.info()"
   ]
  },
  {
   "cell_type": "code",
   "execution_count": 28,
   "metadata": {},
   "outputs": [
    {
     "data": {
      "text/plain": [
       "BAC_RESULT\n",
       "TEST NOT OFFERED                   1126808\n",
       "TEST REFUSED                         12300\n",
       "TEST PERFORMED, RESULTS UNKNOWN       2826\n",
       "TEST TAKEN                            2171\n",
       "dtype: int64"
      ]
     },
     "execution_count": 28,
     "metadata": {},
     "output_type": "execute_result"
    }
   ],
   "source": [
    "df_people.value_counts('BAC_RESULT')"
   ]
  },
  {
   "cell_type": "code",
   "execution_count": 10,
   "metadata": {},
   "outputs": [
    {
     "data": {
      "text/plain": [
       "SEAT_NO\n",
       "3.0     141416\n",
       "6.0      49384\n",
       "4.0      39052\n",
       "5.0      13825\n",
       "1.0      12714\n",
       "2.0      11983\n",
       "12.0      7516\n",
       "7.0       6744\n",
       "10.0      6405\n",
       "11.0      2525\n",
       "8.0        337\n",
       "dtype: int64"
      ]
     },
     "execution_count": 10,
     "metadata": {},
     "output_type": "execute_result"
    }
   ],
   "source": [
    "df_people.value_counts('SEAT_NO')"
   ]
  },
  {
   "cell_type": "code",
   "execution_count": 11,
   "metadata": {},
   "outputs": [
    {
     "data": {
      "text/plain": [
       "CMRC_VEH_I\n",
       "Y    16254\n",
       "N     8673\n",
       "dtype: int64"
      ]
     },
     "execution_count": 11,
     "metadata": {},
     "output_type": "execute_result"
    }
   ],
   "source": [
    "#firguring out what columns to drop in vehicles dataframe\n",
    "df_vehicles.value_counts('CMRC_VEH_I')"
   ]
  },
  {
   "cell_type": "code",
   "execution_count": 12,
   "metadata": {},
   "outputs": [
    {
     "name": "stdout",
     "output_type": "stream",
     "text": [
      "<class 'pandas.core.frame.DataFrame'>\n",
      "RangeIndex: 1335230 entries, 0 to 1335229\n",
      "Data columns (total 72 columns):\n",
      " #   Column                    Non-Null Count    Dtype  \n",
      "---  ------                    --------------    -----  \n",
      " 0   CRASH_UNIT_ID             1335230 non-null  int64  \n",
      " 1   CRASH_RECORD_ID           1335230 non-null  object \n",
      " 2   RD_NO                     1325924 non-null  object \n",
      " 3   CRASH_DATE                1335230 non-null  object \n",
      " 4   UNIT_NO                   1335230 non-null  int64  \n",
      " 5   UNIT_TYPE                 1333361 non-null  object \n",
      " 6   NUM_PASSENGERS            198353 non-null   float64\n",
      " 7   VEHICLE_ID                1304967 non-null  float64\n",
      " 8   CMRC_VEH_I                24927 non-null    object \n",
      " 9   MAKE                      1304962 non-null  object \n",
      " 10  MODEL                     1304818 non-null  object \n",
      " 11  LIC_PLATE_STATE           1187047 non-null  object \n",
      " 12  VEHICLE_YEAR              1092432 non-null  float64\n",
      " 13  VEHICLE_DEFECT            1304967 non-null  object \n",
      " 14  VEHICLE_TYPE              1304967 non-null  object \n",
      " 15  VEHICLE_USE               1304967 non-null  object \n",
      " 16  TRAVEL_DIRECTION          1304967 non-null  object \n",
      " 17  MANEUVER                  1304967 non-null  object \n",
      " 18  TOWED_I                   162050 non-null   object \n",
      " 19  FIRE_I                    1062 non-null     object \n",
      " 20  OCCUPANT_CNT              1304967 non-null  float64\n",
      " 21  EXCEED_SPEED_LIMIT_I      2397 non-null     object \n",
      " 22  TOWED_BY                  120536 non-null   object \n",
      " 23  TOWED_TO                  74156 non-null    object \n",
      " 24  AREA_00_I                 47900 non-null    object \n",
      " 25  AREA_01_I                 351739 non-null   object \n",
      " 26  AREA_02_I                 216469 non-null   object \n",
      " 27  AREA_03_I                 126691 non-null   object \n",
      " 28  AREA_04_I                 128805 non-null   object \n",
      " 29  AREA_05_I                 199196 non-null   object \n",
      " 30  AREA_06_I                 206230 non-null   object \n",
      " 31  AREA_07_I                 185253 non-null   object \n",
      " 32  AREA_08_I                 202505 non-null   object \n",
      " 33  AREA_09_I                 76788 non-null    object \n",
      " 34  AREA_10_I                 110769 non-null   object \n",
      " 35  AREA_11_I                 217168 non-null   object \n",
      " 36  AREA_12_I                 213818 non-null   object \n",
      " 37  AREA_99_I                 146804 non-null   object \n",
      " 38  FIRST_CONTACT_POINT       1293476 non-null  object \n",
      " 39  CMV_ID                    14038 non-null    float64\n",
      " 40  USDOT_NO                  8044 non-null     object \n",
      " 41  CCMC_NO                   1755 non-null     object \n",
      " 42  ILCC_NO                   1230 non-null     object \n",
      " 43  COMMERCIAL_SRC            9556 non-null     object \n",
      " 44  GVWR                      7988 non-null     object \n",
      " 45  CARRIER_NAME              13428 non-null    object \n",
      " 46  CARRIER_STATE             12645 non-null    object \n",
      " 47  CARRIER_CITY              12425 non-null    object \n",
      " 48  HAZMAT_PLACARDS_I         276 non-null      object \n",
      " 49  HAZMAT_NAME               51 non-null       object \n",
      " 50  UN_NO                     489 non-null      object \n",
      " 51  HAZMAT_PRESENT_I          10282 non-null    object \n",
      " 52  HAZMAT_REPORT_I           9972 non-null     object \n",
      " 53  HAZMAT_REPORT_NO          1 non-null        object \n",
      " 54  MCS_REPORT_I              10033 non-null    object \n",
      " 55  MCS_REPORT_NO             6 non-null        object \n",
      " 56  HAZMAT_VIO_CAUSE_CRASH_I  10130 non-null    object \n",
      " 57  MCS_VIO_CAUSE_CRASH_I     9946 non-null     object \n",
      " 58  IDOT_PERMIT_NO            793 non-null      object \n",
      " 59  WIDE_LOAD_I               123 non-null      object \n",
      " 60  TRAILER1_WIDTH            2584 non-null     object \n",
      " 61  TRAILER2_WIDTH            303 non-null      object \n",
      " 62  TRAILER1_LENGTH           2124 non-null     float64\n",
      " 63  TRAILER2_LENGTH           60 non-null       float64\n",
      " 64  TOTAL_VEHICLE_LENGTH      2577 non-null     float64\n",
      " 65  AXLE_CNT                  3786 non-null     float64\n",
      " 66  VEHICLE_CONFIG            11649 non-null    object \n",
      " 67  CARGO_BODY_TYPE           11148 non-null    object \n",
      " 68  LOAD_TYPE                 10655 non-null    object \n",
      " 69  HAZMAT_OUT_OF_SERVICE_I   9674 non-null     object \n",
      " 70  MCS_OUT_OF_SERVICE_I      9921 non-null     object \n",
      " 71  HAZMAT_CLASS              939 non-null      object \n",
      "dtypes: float64(9), int64(2), object(61)\n",
      "memory usage: 733.5+ MB\n"
     ]
    }
   ],
   "source": [
    "df_vehicles.info()"
   ]
  },
  {
   "cell_type": "code",
   "execution_count": 13,
   "metadata": {},
   "outputs": [
    {
     "data": {
      "text/html": [
       "<div>\n",
       "<style scoped>\n",
       "    .dataframe tbody tr th:only-of-type {\n",
       "        vertical-align: middle;\n",
       "    }\n",
       "\n",
       "    .dataframe tbody tr th {\n",
       "        vertical-align: top;\n",
       "    }\n",
       "\n",
       "    .dataframe thead th {\n",
       "        text-align: right;\n",
       "    }\n",
       "</style>\n",
       "<table border=\"1\" class=\"dataframe\">\n",
       "  <thead>\n",
       "    <tr style=\"text-align: right;\">\n",
       "      <th></th>\n",
       "      <th>CRASH_UNIT_ID</th>\n",
       "      <th>UNIT_NO</th>\n",
       "      <th>NUM_PASSENGERS</th>\n",
       "      <th>VEHICLE_ID</th>\n",
       "      <th>VEHICLE_YEAR</th>\n",
       "      <th>OCCUPANT_CNT</th>\n",
       "      <th>CMV_ID</th>\n",
       "      <th>TRAILER1_LENGTH</th>\n",
       "      <th>TRAILER2_LENGTH</th>\n",
       "      <th>TOTAL_VEHICLE_LENGTH</th>\n",
       "      <th>AXLE_CNT</th>\n",
       "    </tr>\n",
       "  </thead>\n",
       "  <tbody>\n",
       "    <tr>\n",
       "      <th>count</th>\n",
       "      <td>1.335230e+06</td>\n",
       "      <td>1.335230e+06</td>\n",
       "      <td>198353.000000</td>\n",
       "      <td>1.304967e+06</td>\n",
       "      <td>1.092432e+06</td>\n",
       "      <td>1.304967e+06</td>\n",
       "      <td>14038.000000</td>\n",
       "      <td>2124.000000</td>\n",
       "      <td>60.000000</td>\n",
       "      <td>2577.000000</td>\n",
       "      <td>3786.000000</td>\n",
       "    </tr>\n",
       "    <tr>\n",
       "      <th>mean</th>\n",
       "      <td>7.137470e+05</td>\n",
       "      <td>4.393513e+00</td>\n",
       "      <td>1.471624</td>\n",
       "      <td>6.789888e+05</td>\n",
       "      <td>2.013626e+03</td>\n",
       "      <td>1.079589e+00</td>\n",
       "      <td>7834.378188</td>\n",
       "      <td>48.524482</td>\n",
       "      <td>44.283333</td>\n",
       "      <td>53.164532</td>\n",
       "      <td>10.611727</td>\n",
       "    </tr>\n",
       "    <tr>\n",
       "      <th>std</th>\n",
       "      <td>4.140649e+05</td>\n",
       "      <td>3.269548e+03</td>\n",
       "      <td>1.051002</td>\n",
       "      <td>3.917114e+05</td>\n",
       "      <td>1.439261e+02</td>\n",
       "      <td>7.843770e-01</td>\n",
       "      <td>4544.299628</td>\n",
       "      <td>21.496023</td>\n",
       "      <td>28.490909</td>\n",
       "      <td>31.918473</td>\n",
       "      <td>422.650657</td>\n",
       "    </tr>\n",
       "    <tr>\n",
       "      <th>min</th>\n",
       "      <td>2.000000e+00</td>\n",
       "      <td>0.000000e+00</td>\n",
       "      <td>1.000000</td>\n",
       "      <td>2.000000e+00</td>\n",
       "      <td>1.900000e+03</td>\n",
       "      <td>0.000000e+00</td>\n",
       "      <td>1.000000</td>\n",
       "      <td>1.000000</td>\n",
       "      <td>2.000000</td>\n",
       "      <td>1.000000</td>\n",
       "      <td>1.000000</td>\n",
       "    </tr>\n",
       "    <tr>\n",
       "      <th>25%</th>\n",
       "      <td>3.537642e+05</td>\n",
       "      <td>1.000000e+00</td>\n",
       "      <td>1.000000</td>\n",
       "      <td>3.400725e+05</td>\n",
       "      <td>2.006000e+03</td>\n",
       "      <td>1.000000e+00</td>\n",
       "      <td>3875.250000</td>\n",
       "      <td>45.000000</td>\n",
       "      <td>22.750000</td>\n",
       "      <td>35.000000</td>\n",
       "      <td>2.000000</td>\n",
       "    </tr>\n",
       "    <tr>\n",
       "      <th>50%</th>\n",
       "      <td>7.149485e+05</td>\n",
       "      <td>2.000000e+00</td>\n",
       "      <td>1.000000</td>\n",
       "      <td>6.794450e+05</td>\n",
       "      <td>2.012000e+03</td>\n",
       "      <td>1.000000e+00</td>\n",
       "      <td>7856.500000</td>\n",
       "      <td>53.000000</td>\n",
       "      <td>48.000000</td>\n",
       "      <td>53.000000</td>\n",
       "      <td>3.000000</td>\n",
       "    </tr>\n",
       "    <tr>\n",
       "      <th>75%</th>\n",
       "      <td>1.072923e+06</td>\n",
       "      <td>2.000000e+00</td>\n",
       "      <td>2.000000</td>\n",
       "      <td>1.017828e+06</td>\n",
       "      <td>2.016000e+03</td>\n",
       "      <td>1.000000e+00</td>\n",
       "      <td>11783.750000</td>\n",
       "      <td>53.000000</td>\n",
       "      <td>53.000000</td>\n",
       "      <td>66.000000</td>\n",
       "      <td>5.000000</td>\n",
       "    </tr>\n",
       "    <tr>\n",
       "      <th>max</th>\n",
       "      <td>1.429734e+06</td>\n",
       "      <td>3.778035e+06</td>\n",
       "      <td>59.000000</td>\n",
       "      <td>1.358762e+06</td>\n",
       "      <td>9.999000e+03</td>\n",
       "      <td>9.900000e+01</td>\n",
       "      <td>15671.000000</td>\n",
       "      <td>740.000000</td>\n",
       "      <td>123.000000</td>\n",
       "      <td>999.000000</td>\n",
       "      <td>26009.000000</td>\n",
       "    </tr>\n",
       "  </tbody>\n",
       "</table>\n",
       "</div>"
      ],
      "text/plain": [
       "       CRASH_UNIT_ID       UNIT_NO  NUM_PASSENGERS    VEHICLE_ID  \\\n",
       "count   1.335230e+06  1.335230e+06   198353.000000  1.304967e+06   \n",
       "mean    7.137470e+05  4.393513e+00        1.471624  6.789888e+05   \n",
       "std     4.140649e+05  3.269548e+03        1.051002  3.917114e+05   \n",
       "min     2.000000e+00  0.000000e+00        1.000000  2.000000e+00   \n",
       "25%     3.537642e+05  1.000000e+00        1.000000  3.400725e+05   \n",
       "50%     7.149485e+05  2.000000e+00        1.000000  6.794450e+05   \n",
       "75%     1.072923e+06  2.000000e+00        2.000000  1.017828e+06   \n",
       "max     1.429734e+06  3.778035e+06       59.000000  1.358762e+06   \n",
       "\n",
       "       VEHICLE_YEAR  OCCUPANT_CNT        CMV_ID  TRAILER1_LENGTH  \\\n",
       "count  1.092432e+06  1.304967e+06  14038.000000      2124.000000   \n",
       "mean   2.013626e+03  1.079589e+00   7834.378188        48.524482   \n",
       "std    1.439261e+02  7.843770e-01   4544.299628        21.496023   \n",
       "min    1.900000e+03  0.000000e+00      1.000000         1.000000   \n",
       "25%    2.006000e+03  1.000000e+00   3875.250000        45.000000   \n",
       "50%    2.012000e+03  1.000000e+00   7856.500000        53.000000   \n",
       "75%    2.016000e+03  1.000000e+00  11783.750000        53.000000   \n",
       "max    9.999000e+03  9.900000e+01  15671.000000       740.000000   \n",
       "\n",
       "       TRAILER2_LENGTH  TOTAL_VEHICLE_LENGTH      AXLE_CNT  \n",
       "count        60.000000           2577.000000   3786.000000  \n",
       "mean         44.283333             53.164532     10.611727  \n",
       "std          28.490909             31.918473    422.650657  \n",
       "min           2.000000              1.000000      1.000000  \n",
       "25%          22.750000             35.000000      2.000000  \n",
       "50%          48.000000             53.000000      3.000000  \n",
       "75%          53.000000             66.000000      5.000000  \n",
       "max         123.000000            999.000000  26009.000000  "
      ]
     },
     "execution_count": 13,
     "metadata": {},
     "output_type": "execute_result"
    }
   ],
   "source": [
    "df_vehicles.describe()"
   ]
  },
  {
   "cell_type": "code",
   "execution_count": 14,
   "metadata": {},
   "outputs": [],
   "source": [
    "vehicles_columns_to_drop = df_vehicles[['RD_NO', 'CRASH_DATE', 'LIC_PLATE_STATE', 'AREA_00_I', 'AREA_01_I', \n",
    "                                       'AREA_02_I', 'AREA_03_I','AREA_04_I','AREA_05_I','AREA_06_I','AREA_07_I',\n",
    "                                       'AREA_08_I','AREA_09_I','AREA_10_I','AREA_11_I','AREA_12_I','AREA_99_I',\n",
    "                                       'CMV_ID', 'USDOT_NO', 'CCMC_NO', 'ILCC_NO', 'COMMERCIAL_SRC', 'GVWR',\n",
    "                                       'CARRIER_NAME', 'CARRIER_CITY', 'HAZMAT_PLACARDS_I', 'HAZMAT_NAME', 'UN_NO',\n",
    "                                       'HAZMAT_PRESENT_I', 'HAZMAT_REPORT_I', 'HAZMAT_REPORT_NO', 'MCS_REPORT_I', \n",
    "                                       'IDOT_PERMIT_NO', 'WIDE_LOAD_I', 'TRAILER1_WIDTH', 'TRAILER2_WIDTH', 'TRAILER1_LENGTH', \n",
    "                                       'TRAILER2_LENGTH', 'TOTAL_VEHICLE_LENGTH', 'AXLE_CNT', 'LOAD_TYPE', 'HAZMAT_OUT_OF_SERVICE_I',\n",
    "                                        'MCS_OUT_OF_SERVICE_I', 'HAZMAT_CLASS', 'MAKE', 'MODEL', 'VEHICLE_YEAR', 'VEHICLE_DEFECT', \n",
    "                                       'VEHICLE_CONFIG', 'CARGO_BODY_TYPE', 'EXCEED_SPEED_LIMIT_I', 'TOWED_BY', 'TOWED_I', 'CARRIER_STATE',\n",
    "                                       'FIRE_I', 'MCS_REPORT_NO','HAZMAT_VIO_CAUSE_CRASH_I','MCS_VIO_CAUSE_CRASH_I', 'TOWED_TO',\n",
    "                                        'CMRC_VEH_I','VEHICLE_ID', 'OCCUPANT_CNT', 'NUM_PASSENGERS', 'TRAVEL_DIRECTION', 'MANEUVER',\n",
    "                                       'VEHICLE_USE', 'CRASH_UNIT_ID']]"
   ]
  },
  {
   "cell_type": "code",
   "execution_count": 15,
   "metadata": {},
   "outputs": [],
   "source": [
    "df_vehicles = df_vehicles.drop(columns=vehicles_columns_to_drop)"
   ]
  },
  {
   "cell_type": "code",
   "execution_count": 16,
   "metadata": {},
   "outputs": [
    {
     "name": "stdout",
     "output_type": "stream",
     "text": [
      "<class 'pandas.core.frame.DataFrame'>\n",
      "RangeIndex: 1335230 entries, 0 to 1335229\n",
      "Data columns (total 5 columns):\n",
      " #   Column               Non-Null Count    Dtype \n",
      "---  ------               --------------    ----- \n",
      " 0   CRASH_RECORD_ID      1335230 non-null  object\n",
      " 1   UNIT_NO              1335230 non-null  int64 \n",
      " 2   UNIT_TYPE            1333361 non-null  object\n",
      " 3   VEHICLE_TYPE         1304967 non-null  object\n",
      " 4   FIRST_CONTACT_POINT  1293476 non-null  object\n",
      "dtypes: int64(1), object(4)\n",
      "memory usage: 50.9+ MB\n"
     ]
    }
   ],
   "source": [
    "df_vehicles.info()"
   ]
  },
  {
   "cell_type": "code",
   "execution_count": 17,
   "metadata": {},
   "outputs": [],
   "source": [
    "df_vehicles.set_index('CRASH_RECORD_ID', inplace=True)"
   ]
  },
  {
   "cell_type": "code",
   "execution_count": 18,
   "metadata": {},
   "outputs": [],
   "source": [
    "import numpy as np"
   ]
  },
  {
   "cell_type": "code",
   "execution_count": 19,
   "metadata": {},
   "outputs": [
    {
     "data": {
      "text/plain": [
       "FIRST_CONTACT_POINT\n",
       "FRONT                198487\n",
       "OTHER                152018\n",
       "REAR-LEFT            145837\n",
       "UNKNOWN              123951\n",
       "REAR                 114506\n",
       "FRONT-LEFT            98443\n",
       "FRONT-RIGHT           86088\n",
       "TOTAL (ALL AREAS)     85742\n",
       "SIDE-RIGHT            83974\n",
       "SIDE-LEFT             77872\n",
       "ROOF                  51223\n",
       "REAR-RIGHT            49119\n",
       "UNDER CARRIAGE        15172\n",
       "NONE                  11044\n",
       "dtype: int64"
      ]
     },
     "execution_count": 19,
     "metadata": {},
     "output_type": "execute_result"
    }
   ],
   "source": [
    "df_vehicles.value_counts('FIRST_CONTACT_POINT')\n",
    "#Map this to Front, Rear, Left, Right, Roof, Under, totaled, other/none"
   ]
  },
  {
   "cell_type": "code",
   "execution_count": 20,
   "metadata": {
    "scrolled": true
   },
   "outputs": [
    {
     "data": {
      "text/plain": [
       "VEHICLE_TYPE\n",
       "PASSENGER                                 822023\n",
       "SPORT UTILITY VEHICLE (SUV)               174566\n",
       "UNKNOWN/NA                                124551\n",
       "VAN/MINI-VAN                               63965\n",
       "PICKUP                                     40310\n",
       "TRUCK - SINGLE UNIT                        24893\n",
       "OTHER                                      15239\n",
       "BUS OVER 15 PASS.                          13728\n",
       "TRACTOR W/ SEMI-TRAILER                    12496\n",
       "BUS UP TO 15 PASS.                          3151\n",
       "MOTORCYCLE (OVER 150CC)                     3132\n",
       "SINGLE UNIT TRUCK WITH TRAILER              1943\n",
       "OTHER VEHICLE WITH TRAILER                  1673\n",
       "TRACTOR W/O SEMI-TRAILER                    1669\n",
       "AUTOCYCLE                                    645\n",
       "MOPED OR MOTORIZED BICYCLE                   353\n",
       "MOTOR DRIVEN CYCLE                           326\n",
       "ALL-TERRAIN VEHICLE (ATV)                    157\n",
       "FARM EQUIPMENT                                71\n",
       "3-WHEELED MOTORCYCLE (2 REAR WHEELS)          48\n",
       "RECREATIONAL OFF-HIGHWAY VEHICLE (ROV)        20\n",
       "SNOWMOBILE                                     8\n",
       "dtype: int64"
      ]
     },
     "execution_count": 20,
     "metadata": {},
     "output_type": "execute_result"
    }
   ],
   "source": [
    "df_vehicles.value_counts('VEHICLE_TYPE')\n",
    "#map this to Car, SUV, Truck, Large Vehicle, Motorcycle, other/unknown"
   ]
  },
  {
   "cell_type": "code",
   "execution_count": 21,
   "metadata": {},
   "outputs": [
    {
     "data": {
      "text/plain": [
       "Car              822023\n",
       "SUV              238531\n",
       "other/unknown    139869\n",
       "Truck             67146\n",
       "Large_vehicle     32717\n",
       "Motorcycle         4681\n",
       "Name: VEHICLE_TYPE, dtype: int64"
      ]
     },
     "execution_count": 21,
     "metadata": {},
     "output_type": "execute_result"
    }
   ],
   "source": [
    "def label_vehicletype(row):\n",
    "    if row['VEHICLE_TYPE'] in ['PASSENGER']:\n",
    "        return 'Car'\n",
    "    elif row['VEHICLE_TYPE'] in ['SPORT UTILITY VEHICLE (SUV)', 'VAN/MINI-VAN']:\n",
    "        return 'SUV'\n",
    "    elif row['VEHICLE_TYPE'] in ['PICKUP','TRUCK - SINGLE UNIT','SINGLE UNIT TRUCK WITH TRAILER']:\n",
    "        return 'Truck'\n",
    "    elif row['VEHICLE_TYPE'] in ['BUS OVER 15 PASS.','TRACTOR W/ SEMI-TRAILER','BUS UP TO 15 PASS.', 'OTHER VEHICLE WITH TRAILER', 'TRACTOR W/O SEMI-TRAILER']:\n",
    "        return 'Large_vehicle'\n",
    "    elif row['VEHICLE_TYPE'] in ['MOTORCYCLE (OVER 150CC)','AUTOCYCLE','MOPED OR MOTORIZED BICYCLE', 'MOTOR DRIVEN CYCLE', 'ALL-TERRAIN VEHICLE (ATV)', \n",
    "                                 '3-WHEELED MOTORCYCLE (2 REAR WHEELS)', 'RECREATIONAL OFF-HIGHWAY VEHICLE (ROV)']:\n",
    "        return 'Motorcycle'\n",
    "    elif row['VEHICLE_TYPE'] in ['UNKNOWN/NA','OTHER','SNOWMOBILE', 'FARM EQUIPMENT']:\n",
    "        return 'other/unknown'\n",
    "df_vehicles['VEHICLE_TYPE'] = df_vehicles.apply(lambda row: label_vehicletype(row), axis=1)\n",
    "df_vehicles['VEHICLE_TYPE'].value_counts()"
   ]
  },
  {
   "cell_type": "code",
   "execution_count": 22,
   "metadata": {
    "scrolled": true
   },
   "outputs": [
    {
     "data": {
      "text/plain": [
       "UNIT_TYPE\n",
       "DRIVER                 1117947\n",
       "PARKED                  175710\n",
       "PEDESTRIAN               16282\n",
       "DRIVERLESS               11777\n",
       "BICYCLE                  10036\n",
       "NON-MOTOR VEHICLE         1187\n",
       "NON-CONTACT VEHICLE        258\n",
       "DISABLED VEHICLE           157\n",
       "EQUESTRIAN                   7\n",
       "dtype: int64"
      ]
     },
     "execution_count": 22,
     "metadata": {},
     "output_type": "execute_result"
    }
   ],
   "source": [
    "df_vehicles.value_counts('UNIT_TYPE')"
   ]
  },
  {
   "cell_type": "code",
   "execution_count": 23,
   "metadata": {},
   "outputs": [
    {
     "data": {
      "text/html": [
       "<div>\n",
       "<style scoped>\n",
       "    .dataframe tbody tr th:only-of-type {\n",
       "        vertical-align: middle;\n",
       "    }\n",
       "\n",
       "    .dataframe tbody tr th {\n",
       "        vertical-align: top;\n",
       "    }\n",
       "\n",
       "    .dataframe thead th {\n",
       "        text-align: right;\n",
       "    }\n",
       "</style>\n",
       "<table border=\"1\" class=\"dataframe\">\n",
       "  <thead>\n",
       "    <tr style=\"text-align: right;\">\n",
       "      <th></th>\n",
       "      <th>UNIT_NO</th>\n",
       "      <th>UNIT_TYPE</th>\n",
       "      <th>VEHICLE_TYPE</th>\n",
       "      <th>FIRST_CONTACT_POINT</th>\n",
       "    </tr>\n",
       "    <tr>\n",
       "      <th>CRASH_RECORD_ID</th>\n",
       "      <th></th>\n",
       "      <th></th>\n",
       "      <th></th>\n",
       "      <th></th>\n",
       "    </tr>\n",
       "  </thead>\n",
       "  <tbody>\n",
       "    <tr>\n",
       "      <th>24ddf9fd8542199d832e1c223cc474e5601b356f1d77a648bb792285d3438a8d5bd177787c5cc51d347da7b1effd5920cb5ff39ce97615a184266b0a7cb615ce</th>\n",
       "      <td>1</td>\n",
       "      <td>DRIVER</td>\n",
       "      <td>Car</td>\n",
       "      <td>FRONT</td>\n",
       "    </tr>\n",
       "    <tr>\n",
       "      <th>81dc0de2ed92aa62baccab641fa377be7feb1cc47e6554932773284e51271e820d7a3c2398fa53636ac3b5b9004d27ee725ff26cfe65ce9b7869b67572e8f17d</th>\n",
       "      <td>1</td>\n",
       "      <td>DRIVER</td>\n",
       "      <td>Car</td>\n",
       "      <td>FRONT</td>\n",
       "    </tr>\n",
       "    <tr>\n",
       "      <th>81dc0de2ed92aa62baccab641fa377be7feb1cc47e6554932773284e51271e820d7a3c2398fa53636ac3b5b9004d27ee725ff26cfe65ce9b7869b67572e8f17d</th>\n",
       "      <td>2</td>\n",
       "      <td>PARKED</td>\n",
       "      <td>other/unknown</td>\n",
       "      <td>ROOF</td>\n",
       "    </tr>\n",
       "    <tr>\n",
       "      <th>81dc0de2ed92aa62baccab641fa377be7feb1cc47e6554932773284e51271e820d7a3c2398fa53636ac3b5b9004d27ee725ff26cfe65ce9b7869b67572e8f17d</th>\n",
       "      <td>3</td>\n",
       "      <td>PARKED</td>\n",
       "      <td>other/unknown</td>\n",
       "      <td>ROOF</td>\n",
       "    </tr>\n",
       "    <tr>\n",
       "      <th>af84fb5c8d996fcd3aefd36593c3a02e6e7509eeb27568963d242f4b42bd91abfe2e5a046370df528b37a30d594ab2921c37f38f59f7db8863e2e2fa3e9dfa1f</th>\n",
       "      <td>2</td>\n",
       "      <td>DRIVER</td>\n",
       "      <td>Car</td>\n",
       "      <td>FRONT-RIGHT</td>\n",
       "    </tr>\n",
       "  </tbody>\n",
       "</table>\n",
       "</div>"
      ],
      "text/plain": [
       "                                                    UNIT_NO UNIT_TYPE  \\\n",
       "CRASH_RECORD_ID                                                         \n",
       "24ddf9fd8542199d832e1c223cc474e5601b356f1d77a64...        1    DRIVER   \n",
       "81dc0de2ed92aa62baccab641fa377be7feb1cc47e65549...        1    DRIVER   \n",
       "81dc0de2ed92aa62baccab641fa377be7feb1cc47e65549...        2    PARKED   \n",
       "81dc0de2ed92aa62baccab641fa377be7feb1cc47e65549...        3    PARKED   \n",
       "af84fb5c8d996fcd3aefd36593c3a02e6e7509eeb275689...        2    DRIVER   \n",
       "\n",
       "                                                     VEHICLE_TYPE  \\\n",
       "CRASH_RECORD_ID                                                     \n",
       "24ddf9fd8542199d832e1c223cc474e5601b356f1d77a64...            Car   \n",
       "81dc0de2ed92aa62baccab641fa377be7feb1cc47e65549...            Car   \n",
       "81dc0de2ed92aa62baccab641fa377be7feb1cc47e65549...  other/unknown   \n",
       "81dc0de2ed92aa62baccab641fa377be7feb1cc47e65549...  other/unknown   \n",
       "af84fb5c8d996fcd3aefd36593c3a02e6e7509eeb275689...            Car   \n",
       "\n",
       "                                                   FIRST_CONTACT_POINT  \n",
       "CRASH_RECORD_ID                                                         \n",
       "24ddf9fd8542199d832e1c223cc474e5601b356f1d77a64...               FRONT  \n",
       "81dc0de2ed92aa62baccab641fa377be7feb1cc47e65549...               FRONT  \n",
       "81dc0de2ed92aa62baccab641fa377be7feb1cc47e65549...                ROOF  \n",
       "81dc0de2ed92aa62baccab641fa377be7feb1cc47e65549...                ROOF  \n",
       "af84fb5c8d996fcd3aefd36593c3a02e6e7509eeb275689...         FRONT-RIGHT  "
      ]
     },
     "execution_count": 23,
     "metadata": {},
     "output_type": "execute_result"
    }
   ],
   "source": [
    "df_vehicles.head()"
   ]
  },
  {
   "cell_type": "markdown",
   "metadata": {},
   "source": [
    "table = pd.pivot_table(\n",
    "    df_vehicles,\n",
    "    values=[\"UNIT_TYPE\", 'VEHICLE_TYPE', 'FIRST_CONTACT_POINT'],\n",
    "    index=[\"CRASH_RECORD_ID\"],\n",
    "    columns=[\"UNIT_NO\"],\n",
    "    aggfunc=np.sum,\n",
    "    margins=True,\n",
    ")"
   ]
  },
  {
   "cell_type": "code",
   "execution_count": null,
   "metadata": {},
   "outputs": [],
   "source": []
  }
 ],
 "metadata": {
  "kernelspec": {
   "display_name": "Python 3",
   "language": "python",
   "name": "python3"
  },
  "language_info": {
   "codemirror_mode": {
    "name": "ipython",
    "version": 3
   },
   "file_extension": ".py",
   "mimetype": "text/x-python",
   "name": "python",
   "nbconvert_exporter": "python",
   "pygments_lexer": "ipython3",
   "version": "3.8.5"
  }
 },
 "nbformat": 4,
 "nbformat_minor": 2
}
