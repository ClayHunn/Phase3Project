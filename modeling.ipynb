{
 "cells": [
  {
   "cell_type": "code",
   "execution_count": 1,
   "metadata": {},
   "outputs": [
    {
     "name": "stderr",
     "output_type": "stream",
     "text": [
      "C:\\Users\\Clay\\anaconda3\\envs\\learn-env\\lib\\site-packages\\IPython\\core\\interactiveshell.py:3145: DtypeWarning: Columns (20,24,25,26,29) have mixed types.Specify dtype option on import or set low_memory=False.\n",
      "  has_raised = await self.run_ast_nodes(code_ast.body, cell_name,\n",
      "C:\\Users\\Clay\\anaconda3\\envs\\learn-env\\lib\\site-packages\\IPython\\core\\interactiveshell.py:3145: DtypeWarning: Columns (19,21,40,41,42,44,48,49,50,53,55,58,59,61,71) have mixed types.Specify dtype option on import or set low_memory=False.\n",
      "  has_raised = await self.run_ast_nodes(code_ast.body, cell_name,\n"
     ]
    }
   ],
   "source": [
    "#importing packages and loading in dataframes\n",
    "import numpy as np\n",
    "import pandas as pd\n",
    "import matplotlib.pyplot as plt\n",
    "import seaborn as sns\n",
    "\n",
    "from sklearn.model_selection import train_test_split\n",
    "from sklearn.tree import DecisionTreeClassifier\n",
    "from sklearn.impute import SimpleImputer\n",
    "from sklearn.preprocessing import OneHotEncoder\n",
    "\n",
    "from sklearn.compose import ColumnTransformer\n",
    "from sklearn.pipeline import Pipeline\n",
    "\n",
    "from sklearn.metrics import plot_confusion_matrix, recall_score, precision_score, accuracy_score, f1_score\n",
    "\n",
    "from sklearn.ensemble import RandomForestClassifier\n",
    "from sklearn.linear_model import LogisticRegression\n",
    "\n",
    "from sklearn.dummy import DummyClassifier\n",
    "\n",
    "\n",
    "\n",
    "df_crashes = pd.read_csv('data/Traffic_Crashes_-_Crashes.csv', index_col='CRASH_RECORD_ID')\n",
    "df_people = pd.read_csv('data/Traffic_Crashes_-_People.csv', index_col='CRASH_RECORD_ID')\n",
    "df_vehicles = pd.read_csv('data/Traffic_Crashes_-_Vehicles.csv', index_col='CRASH_RECORD_ID')"
   ]
  },
  {
   "cell_type": "code",
   "execution_count": 2,
   "metadata": {},
   "outputs": [],
   "source": [
    "#Here we are dropping columns either not relevant, too difficult to work with, or repetitive. \n",
    "crashes_columns_drop = df_crashes[['CRASH_DATE', 'CRASH_HOUR', 'CRASH_DAY_OF_WEEK', 'RD_NO', 'CRASH_DATE_EST_I', 'DATE_POLICE_NOTIFIED','TRAFFIC_CONTROL_DEVICE',\n",
    "                                   'DEVICE_CONDITION', 'STREET_NO',\n",
    "                        'STREET_DIRECTION', 'STREET_NAME', 'BEAT_OF_OCCURRENCE','PHOTOS_TAKEN_I', 'STATEMENTS_TAKEN_I', \n",
    "                        'DOORING_I', 'WORK_ZONE_I', 'WORK_ZONE_TYPE', 'WORKERS_PRESENT_I', 'LANE_CNT','REPORT_TYPE', 'CRASH_MONTH','LATITUDE',\n",
    "                        'LONGITUDE','LOCATION','INJURIES_TOTAL','INJURIES_FATAL', 'INJURIES_INCAPACITATING','INJURIES_NON_INCAPACITATING',\n",
    "                        'INJURIES_REPORTED_NOT_EVIDENT','INJURIES_NO_INDICATION', 'INJURIES_UNKNOWN','CRASH_MONTH','TRAFFICWAY_TYPE',\n",
    "                        'PRIM_CONTRIBUTORY_CAUSE','SEC_CONTRIBUTORY_CAUSE','NOT_RIGHT_OF_WAY_I','HIT_AND_RUN_I','INTERSECTION_RELATED_I']]\n",
    "\n",
    "vehicles_columns_drop = df_vehicles[['RD_NO', 'CRASH_DATE', 'LIC_PLATE_STATE', 'AREA_00_I', 'AREA_01_I', \n",
    "                                       'AREA_02_I', 'AREA_03_I','AREA_04_I','AREA_05_I','AREA_06_I','AREA_07_I',\n",
    "                                       'AREA_08_I','AREA_09_I','AREA_10_I','AREA_11_I','AREA_12_I','AREA_99_I',\n",
    "                                       'CMV_ID', 'USDOT_NO', 'CCMC_NO', 'ILCC_NO', 'COMMERCIAL_SRC', 'GVWR',\n",
    "                                       'CARRIER_NAME', 'CARRIER_CITY', 'HAZMAT_PLACARDS_I', 'HAZMAT_NAME', 'UN_NO',\n",
    "                                       'HAZMAT_PRESENT_I', 'HAZMAT_REPORT_I', 'HAZMAT_REPORT_NO', 'MCS_REPORT_I', \n",
    "                                       'IDOT_PERMIT_NO', 'WIDE_LOAD_I', 'TRAILER1_WIDTH', 'TRAILER2_WIDTH', 'TRAILER1_LENGTH', \n",
    "                                       'TRAILER2_LENGTH', 'TOTAL_VEHICLE_LENGTH', 'AXLE_CNT', 'LOAD_TYPE', 'HAZMAT_OUT_OF_SERVICE_I',\n",
    "                                        'MCS_OUT_OF_SERVICE_I', 'HAZMAT_CLASS', 'MAKE', 'MODEL', 'VEHICLE_YEAR', 'VEHICLE_DEFECT', \n",
    "                                       'VEHICLE_CONFIG', 'CARGO_BODY_TYPE', 'EXCEED_SPEED_LIMIT_I', 'TOWED_BY', 'TOWED_I', 'CARRIER_STATE',\n",
    "                                       'FIRE_I', 'MCS_REPORT_NO','HAZMAT_VIO_CAUSE_CRASH_I','MCS_VIO_CAUSE_CRASH_I', 'TOWED_TO',\n",
    "                                        'CMRC_VEH_I','VEHICLE_ID', 'OCCUPANT_CNT', 'NUM_PASSENGERS', 'TRAVEL_DIRECTION', 'MANEUVER',\n",
    "                                       'VEHICLE_USE', 'CRASH_UNIT_ID', 'UNIT_TYPE']]\n",
    "\n",
    "people_columns_drop = df_people[['RD_NO', 'CRASH_DATE', 'CITY', 'STATE', 'ZIPCODE', 'DRIVERS_LICENSE_STATE', 'DRIVERS_LICENSE_CLASS',\n",
    "                       'HOSPITAL', 'EMS_AGENCY', 'EMS_RUN_NO', 'DRIVER_ACTION', 'DRIVER_VISION', 'PHYSICAL_CONDITION', 'PEDPEDAL_ACTION',\n",
    "                       'PEDPEDAL_VISIBILITY', 'PEDPEDAL_LOCATION', 'BAC_RESULT', 'BAC_RESULT VALUE', 'CELL_PHONE_USE']]\n",
    "\n",
    "\n",
    "\n",
    "df_crashes.drop(columns=crashes_columns_drop, inplace=True)\n",
    "df_vehicles.drop(columns=vehicles_columns_drop, inplace=True)\n",
    "df_people.drop(columns=people_columns_drop, inplace=True)"
   ]
  },
  {
   "cell_type": "code",
   "execution_count": 3,
   "metadata": {
    "scrolled": true
   },
   "outputs": [],
   "source": [
    "#Here we are mapping and applying functions for the columns that we are going to use from the vehicle DF\n",
    "contact_map = {\n",
    "    'FRONT': 'Front',                \n",
    "    'OTHER' : 'Unknown',                \n",
    "    'REAR-LEFT' : 'Rear',           \n",
    "    'UNKNOWN' : 'Unknown',              \n",
    "    'REAR' : 'Rear',                 \n",
    "    'FRONT-LEFT' : 'Front',            \n",
    "    'FRONT-RIGHT' : 'Front',            \n",
    "    'TOTAL (ALL AREAS)' : 'Total',    \n",
    "    'SIDE-RIGHT' : 'Side',           \n",
    "    'SIDE-LEFT' : 'Side',          \n",
    "    'ROOF' : 'Roof',                  \n",
    "    'REAR-RIGHT' :'Roof',            \n",
    "    'UNDER CARRIAGE' : 'Under',\n",
    "    'NONE' : 'Unknown'\n",
    "}\n",
    "\n",
    "df_vehicles['Contact_Point'] = df_vehicles['FIRST_CONTACT_POINT'].map(contact_map)\n",
    "df_vehicles.drop('FIRST_CONTACT_POINT', axis=1, inplace=True)\n",
    "\n",
    "def label_vehicletype(row):\n",
    "    if row['VEHICLE_TYPE'] in ['PASSENGER']:\n",
    "        return 'Car'\n",
    "    elif row['VEHICLE_TYPE'] in ['SPORT UTILITY VEHICLE (SUV)', 'VAN/MINI-VAN']:\n",
    "        return 'SUV'\n",
    "    elif row['VEHICLE_TYPE'] in ['PICKUP','TRUCK - SINGLE UNIT','SINGLE UNIT TRUCK WITH TRAILER']:\n",
    "        return 'Truck'\n",
    "    elif row['VEHICLE_TYPE'] in ['BUS OVER 15 PASS.','TRACTOR W/ SEMI-TRAILER','BUS UP TO 15 PASS.', 'OTHER VEHICLE WITH TRAILER', 'TRACTOR W/O SEMI-TRAILER']:\n",
    "        return 'Large_vehicle'\n",
    "    elif row['VEHICLE_TYPE'] in ['MOTORCYCLE (OVER 150CC)','AUTOCYCLE','MOPED OR MOTORIZED BICYCLE', 'MOTOR DRIVEN CYCLE', 'ALL-TERRAIN VEHICLE (ATV)', \n",
    "                                 '3-WHEELED MOTORCYCLE (2 REAR WHEELS)', 'RECREATIONAL OFF-HIGHWAY VEHICLE (ROV)']:\n",
    "        return 'Motorcycle'\n",
    "    elif row['VEHICLE_TYPE'] in ['UNKNOWN/NA','OTHER','SNOWMOBILE', 'FARM EQUIPMENT']:\n",
    "        return 'Unknown'\n",
    "df_vehicles['VEHICLE_TYPE'] = df_vehicles.apply(lambda row: label_vehicletype(row), axis=1)"
   ]
  },
  {
   "cell_type": "code",
   "execution_count": 4,
   "metadata": {},
   "outputs": [],
   "source": [
    "#Here we are setting up our people df\n",
    "#handling ages\n",
    "Age_Series = df_people.groupby(['CRASH_RECORD_ID'])[['AGE']].agg('median')\n",
    "#handling people count\n",
    "Person_Count_Series = df_people.groupby(['CRASH_RECORD_ID'])[['SEX']].agg('count')\n",
    "Person_Count_Series.rename(columns = {'SEX' : 'PERSON_COUNT'}, inplace = True)\n",
    "#handling airbag\n",
    "Airbag_Series = df_people.groupby(['CRASH_RECORD_ID'])[['AIRBAG_DEPLOYED']].first()\n",
    "Airbag_Series = pd.DataFrame(Airbag_Series['AIRBAG_DEPLOYED'].str.contains('DEPLOYED'))\n",
    "#handling safety \n",
    "Safety_Series = df_people.groupby(['CRASH_RECORD_ID'])[['SAFETY_EQUIPMENT']].first()\n",
    "equipment_list = ['NONE PRESENT','SAFETY BELT NOT USED','HELMET NOT USED','NOT DOT COMPLIANT MOTORCYCLE HELMET',\n",
    "                  'SHOULD/LAP BELT USED IMPROPERLY','CHILD RESTRAINT NOT USED','CHILD RESTRAINT USED IMPROPERLY']\n",
    "Safety_Series['BOOL'] = pd.DataFrame( (Safety_Series['SAFETY_EQUIPMENT'].isin(equipment_list)))\n",
    "\n",
    "Safety_Series[\"BOOL\"] =  ~Safety_Series[\"BOOL\"]\n",
    "Safety_Series.loc[Safety_Series['SAFETY_EQUIPMENT'] == 'USAGE UNKNOWN', ['BOOL']] = 'Unknown'\n",
    "Safety_Series = Safety_Series[['BOOL']]\n",
    "Safety_Series.rename(columns = {'BOOL' : 'SAFETY_EQUIPMENT'}, inplace = True)"
   ]
  },
  {
   "cell_type": "code",
   "execution_count": 5,
   "metadata": {},
   "outputs": [],
   "source": [
    "#merging our people series to crashes df\n",
    "df_crashes_people = df_crashes.merge(Age_Series, how='inner', on='CRASH_RECORD_ID').merge(Person_Count_Series, how='inner', on='CRASH_RECORD_ID').merge(Airbag_Series, how='inner', on='CRASH_RECORD_ID').merge(Safety_Series, how='inner', on='CRASH_RECORD_ID')\n",
    "#pivoting our vehicles df for merging\n",
    "pivot = pd.pivot_table(df_vehicles, columns ='UNIT_NO', index='CRASH_RECORD_ID', values ='VEHICLE_TYPE', aggfunc = 'first')\n",
    "pivot2 = pd.pivot_table(df_vehicles, columns = 'UNIT_NO', index='CRASH_RECORD_ID', values = 'Contact_Point', aggfunc = 'first')\n",
    "#merging our vehicle and crashes/people df to create maindf\n",
    "df_main = df_crashes_people.merge(pivot.iloc[:,1:3], how='inner', on='CRASH_RECORD_ID').merge(pivot2.iloc[:,1:3], how='inner', on='CRASH_RECORD_ID')"
   ]
  },
  {
   "cell_type": "code",
   "execution_count": 6,
   "metadata": {},
   "outputs": [],
   "source": [
    "df_main['FATAL/INCAPACITATING_INJURY'] = True\n",
    "\n",
    "injury_list = ['NO INDICATION OF INJURY','NONINCAPACITATING INJURY','REPORTED, NOT EVIDENT']\n",
    "\n",
    "df_main.loc[(df_main['MOST_SEVERE_INJURY'].isin(injury_list)) | (df_main['MOST_SEVERE_INJURY'].isna()), ['FATAL/INCAPACITATING_INJURY']] = False\n",
    "df_main = df_main.drop('MOST_SEVERE_INJURY', axis = 1)\n"
   ]
  },
  {
   "cell_type": "code",
   "execution_count": 7,
   "metadata": {},
   "outputs": [],
   "source": [
    "def label_weather(row):\n",
    "    if row['WEATHER_CONDITION'] in ['RAIN', 'SNOW','FREEZING RAIN/DRIZZLE','SLEET/HAIL','BLOWING SNOW']:\n",
    "        return 'RAIN/SNOW'\n",
    "    elif row['WEATHER_CONDITION'] in ['CLOUDY/OVERCAST', 'FOG/SMOKE/HAZE', 'SEVERE CROSS WIND GATE', 'BLOWING SAND, SOIL, DIRT','OTHER']:\n",
    "        return 'OTHER'\n",
    "    elif row['WEATHER_CONDITION'] in ['CLEAR']:\n",
    "        return 'CLEAR'\n",
    "    elif row['WEATHER_CONDITION'] in ['UNKNOWN']:\n",
    "        return 'UNKNOWN'\n",
    "\n",
    "\n",
    "df_main['WEATHER_CONDITION'] = df_main.apply(lambda row: label_weather(row), axis=1)\n",
    "\n",
    "def label_crashtype(row):\n",
    "    if row['FIRST_CRASH_TYPE'] in ['PARKED MOTOR VEHICLE','FIXED OBJECT','REAR TO REAR','REAR TO SIDE','ANIMAL','OTHER OBJECT']:\n",
    "        return 'PARKED/OBJECT/SLOW'\n",
    "    elif row['FIRST_CRASH_TYPE'] in ['REAR END', 'SIDESWIPE SAME DIRECTION', 'REAR TO FRONT']:\n",
    "        return 'SAME DIRECTION'\n",
    "    elif row['FIRST_CRASH_TYPE'] in ['HEAD ON','OVERTURNED','TRAIN']:\n",
    "        return 'HEAD ON/OVERTURNED/TRAIN'\n",
    "    elif row['FIRST_CRASH_TYPE'] in ['TURNING','ANGLE','SIDESWIPE OPPOSITE DIRECTION']:\n",
    "        return 'ANGEL/SIDE'\n",
    "    elif row['FIRST_CRASH_TYPE'] in ['PEDESTRIAN','PEDALCYCLIST','SIDESWIPE OPPOSITE DIRECTION']:\n",
    "        return 'PEDESTRIAN/CYCLIST'\n",
    "\n",
    "\n",
    "df_main['FIRST_CRASH_TYPE'] = df_main.apply(lambda row: label_crashtype(row), axis=1)\n",
    "\n",
    "\n",
    "df_main['ALIGNMENT'] = df_main['ALIGNMENT'].apply(lambda x: 'STRAIGHT AND LEVEL' if x == 'STRAIGHT AND LEVEL' else 'NOT STRAIGHT AND LEVEL')\n",
    "df_main['LIGHTING_CONDITION'] = df_main['LIGHTING_CONDITION'].apply(lambda x: 'TWILIGHT' if x == 'DUSK' or x == 'DAWN' else x)\n",
    "df_main['ROADWAY_SURFACE_COND'] = df_main['ROADWAY_SURFACE_COND'].apply(lambda x: 'OTHER' if x == 'SNOW OR SLUSH' or x == 'ICE' or x =='SAND, MUD, DIRT' else x)\n",
    "df_main['ROAD_DEFECT'] = df_main['ROAD_DEFECT'].apply(lambda x: 'DEFECT' if x == 'RUT, HOLES' or x == 'OTHER' or x =='WORN SURFACE' or x == 'SHOULDER DEFECT' or x == 'DEBRIS ON ROADWAY' else x)\n",
    "\n",
    "df_main['SAFETY_EQUIPMENT'] = df_main['SAFETY_EQUIPMENT'].apply(lambda x: 'Yes' if x == True else x)\n",
    "df_main['SAFETY_EQUIPMENT'] = df_main['SAFETY_EQUIPMENT'].apply(lambda x: 'No' if x == False else x)\n",
    "\n",
    "df_main['AIRBAG_DEPLOYED'] = df_main['AIRBAG_DEPLOYED'].apply(lambda x: 'Yes' if x == True else x)\n",
    "df_main['AIRBAG_DEPLOYED'] = df_main['AIRBAG_DEPLOYED'].apply(lambda x: 'No' if x == False else x)\n",
    "\n",
    "df_main['FATAL/INCAPACITATING_INJURY'] = df_main['FATAL/INCAPACITATING_INJURY'].apply(lambda x: 1 if x == True else x)\n",
    "df_main['FATAL/INCAPACITATING_INJURY'] = df_main['FATAL/INCAPACITATING_INJURY'].apply(lambda x: 0 if x == False else x)\n",
    "\n",
    "df_main['DAMAGE'] = df_main['DAMAGE'].apply(lambda x: 'OVER $1,500' if x == 'OVER $1,500' else 'UNDER $1,500')\n",
    "\n",
    "\n",
    "unit_map = {\n",
    "    1 : '1',                \n",
    "    2 : '2',                \n",
    "    3 : '3 or more',           \n",
    "    4 : '3 or more',              \n",
    "    5 : '3 or more',                 \n",
    "    6 : '3 or more',            \n",
    "    7 : '3 or more',            \n",
    "    8 : '3 or more',    \n",
    "    9 : '3 or more',           \n",
    "    10 : '3 or more',         \n",
    "    11 : '3 or more',                  \n",
    "    12 :'3 or more',            \n",
    "    14 : '3 or more',\n",
    "    15 : '3 or more',\n",
    "    16 : '3 or more',\n",
    "    18 : '3 or more',\n",
    "}\n",
    "\n",
    "df_main['NUM_UNITS'] = df_main['NUM_UNITS'].map(unit_map)\n",
    "\n",
    "def label_speed_limits(row):\n",
    "    if row['POSTED_SPEED_LIMIT'] <= 10:\n",
    "        return '0 to 10 mph'\n",
    "    elif row['POSTED_SPEED_LIMIT']  <= 20:\n",
    "        return '11 to 20mph'\n",
    "    elif row['POSTED_SPEED_LIMIT'] <= 30:\n",
    "        return '21 to 30mph'\n",
    "    elif row['POSTED_SPEED_LIMIT'] <= 40:\n",
    "        return '31 to 40mph'\n",
    "    elif row['POSTED_SPEED_LIMIT'] <= 50:\n",
    "        return '41 to 50mph'\n",
    "    elif row['POSTED_SPEED_LIMIT'] <= 60:\n",
    "        return '51 to 60mph'\n",
    "    elif row['POSTED_SPEED_LIMIT'] >= 61:\n",
    "        return '61mph and over'\n",
    "\n",
    "df_main['POSTED_SPEED_LIMIT'] = df_main.apply(lambda row: label_speed_limits(row), axis=1) \n",
    "\n",
    "def label_personcount(row):\n",
    "    if row['PERSON_COUNT'] == 1:\n",
    "        return 'One'\n",
    "    elif row['PERSON_COUNT']  == 2:\n",
    "        return 'Two'\n",
    "    elif row['PERSON_COUNT'] == 3:\n",
    "        return 'Three'\n",
    "    elif row['PERSON_COUNT'] == 4:\n",
    "        return 'Four'\n",
    "    elif row['PERSON_COUNT'] >= 5:\n",
    "        return 'Five or more'\n",
    "    \n",
    "df_main['PERSON_COUNT'] = df_main.apply(lambda row: label_personcount(row), axis=1) \n",
    "\n",
    "\n",
    "df_main['Vehicle1'] = df_main['1_x']\n",
    "df_main['Vehicle2'] = df_main['2_x']\n",
    "df_main['Contact1'] = df_main['1_y']\n",
    "df_main['Contact2'] = df_main['2_y']\n",
    "df_main = df_main.drop(['1_x', '2_x', '1_y', '2_y'], axis=1)"
   ]
  },
  {
   "cell_type": "code",
   "execution_count": 8,
   "metadata": {},
   "outputs": [],
   "source": [
    "df_main = df_main.dropna(subset = ['PERSON_COUNT', 'FIRST_CRASH_TYPE','AIRBAG_DEPLOYED', 'Vehicle1', 'Vehicle2', 'Contact1', 'Contact2'], axis = 0)"
   ]
  },
  {
   "cell_type": "code",
   "execution_count": 9,
   "metadata": {},
   "outputs": [],
   "source": [
    "model = df_main"
   ]
  },
  {
   "cell_type": "code",
   "execution_count": 10,
   "metadata": {},
   "outputs": [],
   "source": [
    "X = model.drop('FATAL/INCAPACITATING_INJURY', axis = 1)\n",
    "y = model['FATAL/INCAPACITATING_INJURY']\n",
    "\n",
    "X_train, X_test, y_train, y_test = train_test_split(X, y, random_state = 42, test_size=.2)"
   ]
  },
  {
   "cell_type": "code",
   "execution_count": 11,
   "metadata": {},
   "outputs": [
    {
     "name": "stdout",
     "output_type": "stream",
     "text": [
      "Dummy Classifier TEST Recall Score: 0.0\n",
      "Dummy Classifier TEST Precision Score: 0.0\n",
      "Dummy Classifier TEST F1 Score: 0.0\n",
      "Dummy Classifier TEST Accuracy Score: 0.9886898748266237\n"
     ]
    },
    {
     "name": "stderr",
     "output_type": "stream",
     "text": [
      "C:\\Users\\Clay\\anaconda3\\envs\\learn-env\\lib\\site-packages\\sklearn\\metrics\\_classification.py:1221: UndefinedMetricWarning: Precision is ill-defined and being set to 0.0 due to no predicted samples. Use `zero_division` parameter to control this behavior.\n",
      "  _warn_prf(average, modifier, msg_start, len(result))\n"
     ]
    },
    {
     "data": {
      "image/png": "[encoded data removed]",
      "text/plain": [
       "<Figure size 432x288 with 2 Axes>"
      ]
     },
     "metadata": {
      "needs_background": "light"
     },
     "output_type": "display_data"
    }
   ],
   "source": [
    "dummy = DummyClassifier(strategy = 'most_frequent')\n",
    "\n",
    "dummy.fit(X_train,y_train)\n",
    "\n",
    "plot_confusion_matrix(dummy, X_test, y_test)\n",
    "\n",
    "print('Dummy Classifier TEST Recall Score:', recall_score(y_test,dummy.predict(X_test)))\n",
    "print('Dummy Classifier TEST Precision Score:', precision_score(y_test,dummy.predict(X_test)))\n",
    "print('Dummy Classifier TEST F1 Score:', f1_score(y_test,dummy.predict(X_test)))\n",
    "print('Dummy Classifier TEST Accuracy Score:', accuracy_score(y_test,dummy.predict(X_test)))"
   ]
  },
  {
   "cell_type": "code",
   "execution_count": 12,
   "metadata": {
    "scrolled": false
   },
   "outputs": [
    {
     "data": {
      "text/plain": [
       "Pipeline(steps=[('preprocessor',\n",
       "                 ColumnTransformer(transformers=[('num',\n",
       "                                                  Pipeline(steps=[('imputer',\n",
       "                                                                   SimpleImputer(strategy='median'))]),\n",
       "                                                  ['AGE']),\n",
       "                                                 ('cat',\n",
       "                                                  Pipeline(steps=[('onehot',\n",
       "                                                                   OneHotEncoder(handle_unknown='ignore'))]),\n",
       "                                                  ['POSTED_SPEED_LIMIT',\n",
       "                                                   'WEATHER_CONDITION',\n",
       "                                                   'LIGHTING_CONDITION',\n",
       "                                                   'FIRST_CRASH_TYPE',\n",
       "                                                   'ALIGNMENT',\n",
       "                                                   'ROADWAY_SURFACE_COND',\n",
       "                                                   'ROAD_DEFECT', 'CRASH_TYPE',\n",
       "                                                   'NUM_UNITS', 'PERSON_COUNT',\n",
       "                                                   'AIRBAG_DEPLOYED',\n",
       "                                                   'SAFETY_EQUIPMENT',\n",
       "                                                   'Vehicle1', 'Vehicle2',\n",
       "                                                   'Contact1', 'Contact2',\n",
       "                                                   'DAMAGE'])])),\n",
       "                ('classiffier',\n",
       "                 LogisticRegression(class_weight='balanced', max_iter=850))])"
      ]
     },
     "execution_count": 12,
     "metadata": {},
     "output_type": "execute_result"
    }
   ],
   "source": [
    "num = ['AGE']\n",
    "cat = ['POSTED_SPEED_LIMIT', 'WEATHER_CONDITION', 'LIGHTING_CONDITION', 'FIRST_CRASH_TYPE', 'ALIGNMENT', 'ROADWAY_SURFACE_COND',\n",
    "      'ROAD_DEFECT', 'CRASH_TYPE', 'NUM_UNITS', 'PERSON_COUNT', 'AIRBAG_DEPLOYED', 'SAFETY_EQUIPMENT', 'Vehicle1', 'Vehicle2',\n",
    "      'Contact1', 'Contact2', 'DAMAGE']\n",
    "\n",
    "num_transformer = Pipeline(steps=[('imputer', SimpleImputer(strategy = 'median'))])\n",
    "\n",
    "cat_transformer = Pipeline(steps=[('onehot', OneHotEncoder(handle_unknown = \"ignore\"))])\n",
    "\n",
    "preprocessor = ColumnTransformer(transformers=[('num', num_transformer, num),\n",
    "                                               ('cat', cat_transformer, cat)])\n",
    "\n",
    "pipe = Pipeline(steps=[('preprocessor', preprocessor),\n",
    "                       ('classiffier', LogisticRegression(class_weight ='balanced', max_iter=850))])\n",
    "\n",
    "pipe.fit(X_train,y_train)"
   ]
  },
  {
   "cell_type": "code",
   "execution_count": 13,
   "metadata": {},
   "outputs": [],
   "source": [
    "from sklearn.model_selection import GridSearchCV"
   ]
  },
  {
   "cell_type": "code",
   "execution_count": 14,
   "metadata": {
    "scrolled": true
   },
   "outputs": [
    {
     "name": "stdout",
     "output_type": "stream",
     "text": [
      "Training Precision:  0.0503499354488007\n",
      "Testing Precision:  0.05138000935599563\n",
      "\n",
      "\n",
      "\n",
      "Training Recall:  0.9986522911051213\n",
      "Testing Recall:  0.9977289931869796\n",
      "\n",
      "\n",
      "\n",
      "Training Accuracy:  0.7905802979937542\n",
      "Testing Accuracy:  0.7916317060223634\n",
      "\n",
      "\n",
      "\n",
      "Training F1-Score:  0.09586648554240247\n",
      "Testing F1-Score:  0.09772735698661625\n"
     ]
    }
   ],
   "source": [
    "y_hat_train = pipe.predict(X_train)\n",
    "y_hat_test = pipe.predict(X_test)\n",
    "\n",
    "print('Training Precision: ', precision_score(y_train, y_hat_train))\n",
    "print('Testing Precision: ', precision_score(y_test, y_hat_test))\n",
    "print('\\n\\n')\n",
    "\n",
    "print('Training Recall: ', recall_score(y_train, y_hat_train))\n",
    "print('Testing Recall: ', recall_score(y_test, y_hat_test))\n",
    "print('\\n\\n')\n",
    "\n",
    "print('Training Accuracy: ', accuracy_score(y_train, y_hat_train))\n",
    "print('Testing Accuracy: ', accuracy_score(y_test, y_hat_test))\n",
    "print('\\n\\n')\n",
    "\n",
    "print('Training F1-Score: ', f1_score(y_train, y_hat_train))\n",
    "print('Testing F1-Score: ', f1_score(y_test, y_hat_test))"
   ]
  },
  {
   "cell_type": "code",
   "execution_count": 15,
   "metadata": {},
   "outputs": [
    {
     "data": {
      "text/plain": [
       "<sklearn.metrics._plot.confusion_matrix.ConfusionMatrixDisplay at 0x25f96e5e640>"
      ]
     },
     "execution_count": 15,
     "metadata": {},
     "output_type": "execute_result"
    },
    {
     "data": {
      "image/png": "[encoded data removed]",
      "text/plain": [
       "<Figure size 432x288 with 2 Axes>"
      ]
     },
     "metadata": {
      "needs_background": "light"
     },
     "output_type": "display_data"
    }
   ],
   "source": [
    "plot_confusion_matrix(pipe, X_test, y_test)"
   ]
  },
  {
   "cell_type": "code",
   "execution_count": 16,
   "metadata": {},
   "outputs": [],
   "source": [
    "#Best params from this are 'classiffier__penalty': 'l2', 'classiffier__solver': 'sag', this decreased performance just a default logreg model\n",
    "\n",
    "#grid = [{\n",
    "#    'classiffier__penalty': ['none', 'l2', 'elasticnet'],\n",
    "#    'classiffier__solver' : ['sag', 'saga', 'newton-cg', 'lbfgs']\n",
    "#}]\n",
    "\n",
    "\n",
    "#logreg = GridSearchCV(estimator=pipe, param_grid=grid, cv=5)\n",
    "#logreg.fit(X_train, y_train)\n",
    "\n",
    "#logreg.best_params_"
   ]
  },
  {
   "cell_type": "code",
   "execution_count": 17,
   "metadata": {},
   "outputs": [
    {
     "data": {
      "text/plain": [
       "dict_keys(['memory', 'steps', 'verbose', 'preprocessor', 'classiffier', 'preprocessor__n_jobs', 'preprocessor__remainder', 'preprocessor__sparse_threshold', 'preprocessor__transformer_weights', 'preprocessor__transformers', 'preprocessor__verbose', 'preprocessor__num', 'preprocessor__cat', 'preprocessor__num__memory', 'preprocessor__num__steps', 'preprocessor__num__verbose', 'preprocessor__num__imputer', 'preprocessor__num__imputer__add_indicator', 'preprocessor__num__imputer__copy', 'preprocessor__num__imputer__fill_value', 'preprocessor__num__imputer__missing_values', 'preprocessor__num__imputer__strategy', 'preprocessor__num__imputer__verbose', 'preprocessor__cat__memory', 'preprocessor__cat__steps', 'preprocessor__cat__verbose', 'preprocessor__cat__onehot', 'preprocessor__cat__onehot__categories', 'preprocessor__cat__onehot__drop', 'preprocessor__cat__onehot__dtype', 'preprocessor__cat__onehot__handle_unknown', 'preprocessor__cat__onehot__sparse', 'classiffier__C', 'classiffier__class_weight', 'classiffier__dual', 'classiffier__fit_intercept', 'classiffier__intercept_scaling', 'classiffier__l1_ratio', 'classiffier__max_iter', 'classiffier__multi_class', 'classiffier__n_jobs', 'classiffier__penalty', 'classiffier__random_state', 'classiffier__solver', 'classiffier__tol', 'classiffier__verbose', 'classiffier__warm_start'])"
      ]
     },
     "execution_count": 17,
     "metadata": {},
     "output_type": "execute_result"
    }
   ],
   "source": [
    "pipe.get_params().keys()"
   ]
  },
  {
   "cell_type": "code",
   "execution_count": 18,
   "metadata": {},
   "outputs": [],
   "source": [
    "model2 = df_main"
   ]
  },
  {
   "cell_type": "code",
   "execution_count": 19,
   "metadata": {},
   "outputs": [],
   "source": [
    "X_dam = model2.drop('DAMAGE', axis = 1)\n",
    "y_dam = model2['DAMAGE']\n",
    "\n",
    "X_train, X_test, y_train, y_test = train_test_split(X_dam, y_dam, random_state = 42, test_size=.2)"
   ]
  },
  {
   "cell_type": "code",
   "execution_count": 20,
   "metadata": {},
   "outputs": [
    {
     "name": "stderr",
     "output_type": "stream",
     "text": [
      "C:\\Users\\Clay\\anaconda3\\envs\\learn-env\\lib\\site-packages\\sklearn\\metrics\\_classification.py:1254: FutureWarning: elementwise comparison failed; returning scalar instead, but in the future will perform elementwise comparison\n",
      "  if pos_label not in present_labels:\n"
     ]
    },
    {
     "ename": "ValueError",
     "evalue": "pos_label=1 is not a valid label: array(['OVER $1,500', 'UNDER $1,500'], dtype='<U12')",
     "output_type": "error",
     "traceback": [
      "\u001b[1;31m---------------------------------------------------------------------------\u001b[0m",
      "\u001b[1;31mValueError\u001b[0m                                Traceback (most recent call last)",
      "\u001b[1;32m<ipython-input-20-cf5271a3553e>\u001b[0m in \u001b[0;36m<module>\u001b[1;34m\u001b[0m\n\u001b[0;32m     19\u001b[0m \u001b[0my_hat_test\u001b[0m \u001b[1;33m=\u001b[0m \u001b[0mpipe_dam\u001b[0m\u001b[1;33m.\u001b[0m\u001b[0mpredict\u001b[0m\u001b[1;33m(\u001b[0m\u001b[0mX_test\u001b[0m\u001b[1;33m)\u001b[0m\u001b[1;33m\u001b[0m\u001b[1;33m\u001b[0m\u001b[0m\n\u001b[0;32m     20\u001b[0m \u001b[1;33m\u001b[0m\u001b[0m\n\u001b[1;32m---> 21\u001b[1;33m \u001b[0mprint\u001b[0m\u001b[1;33m(\u001b[0m\u001b[1;34m'Training Precision: '\u001b[0m\u001b[1;33m,\u001b[0m \u001b[0mprecision_score\u001b[0m\u001b[1;33m(\u001b[0m\u001b[0my_train\u001b[0m\u001b[1;33m,\u001b[0m \u001b[0my_hat_train\u001b[0m\u001b[1;33m)\u001b[0m\u001b[1;33m)\u001b[0m\u001b[1;33m\u001b[0m\u001b[1;33m\u001b[0m\u001b[0m\n\u001b[0m\u001b[0;32m     22\u001b[0m \u001b[0mprint\u001b[0m\u001b[1;33m(\u001b[0m\u001b[1;34m'Testing Precision: '\u001b[0m\u001b[1;33m,\u001b[0m \u001b[0mprecision_score\u001b[0m\u001b[1;33m(\u001b[0m\u001b[0my_test\u001b[0m\u001b[1;33m,\u001b[0m \u001b[0my_hat_test\u001b[0m\u001b[1;33m)\u001b[0m\u001b[1;33m)\u001b[0m\u001b[1;33m\u001b[0m\u001b[1;33m\u001b[0m\u001b[0m\n\u001b[0;32m     23\u001b[0m \u001b[0mprint\u001b[0m\u001b[1;33m(\u001b[0m\u001b[1;34m'\\n\\n'\u001b[0m\u001b[1;33m)\u001b[0m\u001b[1;33m\u001b[0m\u001b[1;33m\u001b[0m\u001b[0m\n",
      "\u001b[1;32m~\\anaconda3\\envs\\learn-env\\lib\\site-packages\\sklearn\\utils\\validation.py\u001b[0m in \u001b[0;36minner_f\u001b[1;34m(*args, **kwargs)\u001b[0m\n\u001b[0;32m     70\u001b[0m                           FutureWarning)\n\u001b[0;32m     71\u001b[0m         \u001b[0mkwargs\u001b[0m\u001b[1;33m.\u001b[0m\u001b[0mupdate\u001b[0m\u001b[1;33m(\u001b[0m\u001b[1;33m{\u001b[0m\u001b[0mk\u001b[0m\u001b[1;33m:\u001b[0m \u001b[0marg\u001b[0m \u001b[1;32mfor\u001b[0m \u001b[0mk\u001b[0m\u001b[1;33m,\u001b[0m \u001b[0marg\u001b[0m \u001b[1;32min\u001b[0m \u001b[0mzip\u001b[0m\u001b[1;33m(\u001b[0m\u001b[0msig\u001b[0m\u001b[1;33m.\u001b[0m\u001b[0mparameters\u001b[0m\u001b[1;33m,\u001b[0m \u001b[0margs\u001b[0m\u001b[1;33m)\u001b[0m\u001b[1;33m}\u001b[0m\u001b[1;33m)\u001b[0m\u001b[1;33m\u001b[0m\u001b[1;33m\u001b[0m\u001b[0m\n\u001b[1;32m---> 72\u001b[1;33m         \u001b[1;32mreturn\u001b[0m \u001b[0mf\u001b[0m\u001b[1;33m(\u001b[0m\u001b[1;33m**\u001b[0m\u001b[0mkwargs\u001b[0m\u001b[1;33m)\u001b[0m\u001b[1;33m\u001b[0m\u001b[1;33m\u001b[0m\u001b[0m\n\u001b[0m\u001b[0;32m     73\u001b[0m     \u001b[1;32mreturn\u001b[0m \u001b[0minner_f\u001b[0m\u001b[1;33m\u001b[0m\u001b[1;33m\u001b[0m\u001b[0m\n\u001b[0;32m     74\u001b[0m \u001b[1;33m\u001b[0m\u001b[0m\n",
      "\u001b[1;32m~\\anaconda3\\envs\\learn-env\\lib\\site-packages\\sklearn\\metrics\\_classification.py\u001b[0m in \u001b[0;36mprecision_score\u001b[1;34m(y_true, y_pred, labels, pos_label, average, sample_weight, zero_division)\u001b[0m\n\u001b[0;32m   1615\u001b[0m \u001b[1;33m\u001b[0m\u001b[0m\n\u001b[0;32m   1616\u001b[0m     \"\"\"\n\u001b[1;32m-> 1617\u001b[1;33m     p, _, _, _ = precision_recall_fscore_support(y_true, y_pred,\n\u001b[0m\u001b[0;32m   1618\u001b[0m                                                  \u001b[0mlabels\u001b[0m\u001b[1;33m=\u001b[0m\u001b[0mlabels\u001b[0m\u001b[1;33m,\u001b[0m\u001b[1;33m\u001b[0m\u001b[1;33m\u001b[0m\u001b[0m\n\u001b[0;32m   1619\u001b[0m                                                  \u001b[0mpos_label\u001b[0m\u001b[1;33m=\u001b[0m\u001b[0mpos_label\u001b[0m\u001b[1;33m,\u001b[0m\u001b[1;33m\u001b[0m\u001b[1;33m\u001b[0m\u001b[0m\n",
      "\u001b[1;32m~\\anaconda3\\envs\\learn-env\\lib\\site-packages\\sklearn\\utils\\validation.py\u001b[0m in \u001b[0;36minner_f\u001b[1;34m(*args, **kwargs)\u001b[0m\n\u001b[0;32m     70\u001b[0m                           FutureWarning)\n\u001b[0;32m     71\u001b[0m         \u001b[0mkwargs\u001b[0m\u001b[1;33m.\u001b[0m\u001b[0mupdate\u001b[0m\u001b[1;33m(\u001b[0m\u001b[1;33m{\u001b[0m\u001b[0mk\u001b[0m\u001b[1;33m:\u001b[0m \u001b[0marg\u001b[0m \u001b[1;32mfor\u001b[0m \u001b[0mk\u001b[0m\u001b[1;33m,\u001b[0m \u001b[0marg\u001b[0m \u001b[1;32min\u001b[0m \u001b[0mzip\u001b[0m\u001b[1;33m(\u001b[0m\u001b[0msig\u001b[0m\u001b[1;33m.\u001b[0m\u001b[0mparameters\u001b[0m\u001b[1;33m,\u001b[0m \u001b[0margs\u001b[0m\u001b[1;33m)\u001b[0m\u001b[1;33m}\u001b[0m\u001b[1;33m)\u001b[0m\u001b[1;33m\u001b[0m\u001b[1;33m\u001b[0m\u001b[0m\n\u001b[1;32m---> 72\u001b[1;33m         \u001b[1;32mreturn\u001b[0m \u001b[0mf\u001b[0m\u001b[1;33m(\u001b[0m\u001b[1;33m**\u001b[0m\u001b[0mkwargs\u001b[0m\u001b[1;33m)\u001b[0m\u001b[1;33m\u001b[0m\u001b[1;33m\u001b[0m\u001b[0m\n\u001b[0m\u001b[0;32m     73\u001b[0m     \u001b[1;32mreturn\u001b[0m \u001b[0minner_f\u001b[0m\u001b[1;33m\u001b[0m\u001b[1;33m\u001b[0m\u001b[0m\n\u001b[0;32m     74\u001b[0m \u001b[1;33m\u001b[0m\u001b[0m\n",
      "\u001b[1;32m~\\anaconda3\\envs\\learn-env\\lib\\site-packages\\sklearn\\metrics\\_classification.py\u001b[0m in \u001b[0;36mprecision_recall_fscore_support\u001b[1;34m(y_true, y_pred, beta, labels, pos_label, average, warn_for, sample_weight, zero_division)\u001b[0m\n\u001b[0;32m   1431\u001b[0m     \u001b[1;32mif\u001b[0m \u001b[0mbeta\u001b[0m \u001b[1;33m<\u001b[0m \u001b[1;36m0\u001b[0m\u001b[1;33m:\u001b[0m\u001b[1;33m\u001b[0m\u001b[1;33m\u001b[0m\u001b[0m\n\u001b[0;32m   1432\u001b[0m         \u001b[1;32mraise\u001b[0m \u001b[0mValueError\u001b[0m\u001b[1;33m(\u001b[0m\u001b[1;34m\"beta should be >=0 in the F-beta score\"\u001b[0m\u001b[1;33m)\u001b[0m\u001b[1;33m\u001b[0m\u001b[1;33m\u001b[0m\u001b[0m\n\u001b[1;32m-> 1433\u001b[1;33m     labels = _check_set_wise_labels(y_true, y_pred, average, labels,\n\u001b[0m\u001b[0;32m   1434\u001b[0m                                     pos_label)\n\u001b[0;32m   1435\u001b[0m \u001b[1;33m\u001b[0m\u001b[0m\n",
      "\u001b[1;32m~\\anaconda3\\envs\\learn-env\\lib\\site-packages\\sklearn\\metrics\\_classification.py\u001b[0m in \u001b[0;36m_check_set_wise_labels\u001b[1;34m(y_true, y_pred, average, labels, pos_label)\u001b[0m\n\u001b[0;32m   1254\u001b[0m             \u001b[1;32mif\u001b[0m \u001b[0mpos_label\u001b[0m \u001b[1;32mnot\u001b[0m \u001b[1;32min\u001b[0m \u001b[0mpresent_labels\u001b[0m\u001b[1;33m:\u001b[0m\u001b[1;33m\u001b[0m\u001b[1;33m\u001b[0m\u001b[0m\n\u001b[0;32m   1255\u001b[0m                 \u001b[1;32mif\u001b[0m \u001b[0mlen\u001b[0m\u001b[1;33m(\u001b[0m\u001b[0mpresent_labels\u001b[0m\u001b[1;33m)\u001b[0m \u001b[1;33m>=\u001b[0m \u001b[1;36m2\u001b[0m\u001b[1;33m:\u001b[0m\u001b[1;33m\u001b[0m\u001b[1;33m\u001b[0m\u001b[0m\n\u001b[1;32m-> 1256\u001b[1;33m                     raise ValueError(\"pos_label=%r is not a valid label: \"\n\u001b[0m\u001b[0;32m   1257\u001b[0m                                      \"%r\" % (pos_label, present_labels))\n\u001b[0;32m   1258\u001b[0m             \u001b[0mlabels\u001b[0m \u001b[1;33m=\u001b[0m \u001b[1;33m[\u001b[0m\u001b[0mpos_label\u001b[0m\u001b[1;33m]\u001b[0m\u001b[1;33m\u001b[0m\u001b[1;33m\u001b[0m\u001b[0m\n",
      "\u001b[1;31mValueError\u001b[0m: pos_label=1 is not a valid label: array(['OVER $1,500', 'UNDER $1,500'], dtype='<U12')"
     ]
    }
   ],
   "source": [
    "num = ['AGE', 'FATAL/INCAPACITATING_INJURY']\n",
    "cat = ['POSTED_SPEED_LIMIT', 'WEATHER_CONDITION', 'LIGHTING_CONDITION', 'FIRST_CRASH_TYPE', 'ALIGNMENT', 'ROADWAY_SURFACE_COND',\n",
    "      'ROAD_DEFECT', 'CRASH_TYPE', 'NUM_UNITS', 'PERSON_COUNT', 'AIRBAG_DEPLOYED', 'SAFETY_EQUIPMENT', 'Vehicle1', 'Vehicle2',\n",
    "      'Contact1', 'Contact2']\n",
    "\n",
    "num_transformer = Pipeline(steps=[('imputer', SimpleImputer(strategy = 'median'))])\n",
    "\n",
    "cat_transformer = Pipeline(steps=[('onehot', OneHotEncoder(drop = 'first'))])\n",
    "\n",
    "preprocessor = ColumnTransformer(transformers=[('num', num_transformer, num),\n",
    "                                               ('cat', cat_transformer, cat)])\n",
    "\n",
    "pipe_dam = Pipeline(steps=[('preprocessor', preprocessor),\n",
    "                       ('classiffier', LogisticRegression(max_iter=850))])\n",
    "\n",
    "pipe_dam.fit(X_train,y_train)\n",
    "\n",
    "y_hat_train = pipe_dam.predict(X_train)\n",
    "y_hat_test = pipe_dam.predict(X_test)\n",
    "\n",
    "print('Training Precision: ', precision_score(y_train, y_hat_train))\n",
    "print('Testing Precision: ', precision_score(y_test, y_hat_test))\n",
    "print('\\n\\n')\n",
    "\n",
    "print('Training Recall: ', recall_score(y_train, y_hat_train))\n",
    "print('Testing Recall: ', recall_score(y_test, y_hat_test))\n",
    "print('\\n\\n')\n",
    "\n",
    "print('Training Accuracy: ', accuracy_score(y_train, y_hat_train))\n",
    "print('Testing Accuracy: ', accuracy_score(y_test, y_hat_test))\n",
    "print('\\n\\n')\n",
    "\n",
    "print('Training F1-Score: ', f1_score(y_train, y_hat_train))\n",
    "print('Testing F1-Score: ', f1_score(y_test, y_hat_test))\n",
    "\n",
    "\n",
    "plot_confusion_matrix(pipe_dam, X_test, y_test)"
   ]
  },
  {
   "cell_type": "code",
   "execution_count": null,
   "metadata": {},
   "outputs": [],
   "source": [
    "grid = [{\n",
    "    'classiffier__penalty': ['none', 'l2', 'elasticnet'],\n",
    "    'classiffier__solver' : ['sag', 'saga', 'newton-cg', 'lbfgs']\n",
    "}]\n",
    "\n",
    "logreg = GridSearchCV(estimator=pipe, param_grid=grid, cv=5)\n",
    "logreg.fit(X_train, y_train)\n",
    "\n",
    "logreg.best_params_"
   ]
  }
 ],
 "metadata": {
  "kernelspec": {
   "display_name": "Python 3",
   "language": "python",
   "name": "python3"
  },
  "language_info": {
   "codemirror_mode": {
    "name": "ipython",
    "version": 3
   },
   "file_extension": ".py",
   "mimetype": "text/x-python",
   "name": "python",
   "nbconvert_exporter": "python",
   "pygments_lexer": "ipython3",
   "version": "3.8.5"
  }
 },
 "nbformat": 4,
 "nbformat_minor": 2
}
